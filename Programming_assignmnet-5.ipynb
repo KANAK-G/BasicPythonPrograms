{
 "cells": [
  {
   "cell_type": "markdown",
   "metadata": {},
   "source": [
    "1.\tWrite a Python Program to Find LCM?\n",
    "2.\tWrite a Python Program to Find HCF?\n",
    "3.\tWrite a Python Program to Convert Decimal to Binary, Octal and Hexadecimal?\n",
    "4.\tWrite a Python Program To Find ASCII value of a character?\n",
    "5.\tWrite a Python Program to Make a Simple Calculator with 4 basic mathematical operations?\n"
   ]
  },
  {
   "cell_type": "code",
   "execution_count": 1,
   "metadata": {},
   "outputs": [
    {
     "name": "stdout",
     "output_type": "stream",
     "text": [
      "n1=95\n",
      "n2=55\n",
      "LCM of 95 and 55 is = 1045\n"
     ]
    }
   ],
   "source": [
    "#Ans1.\n",
    "\n",
    "n1=int(input('n1='))\n",
    "n2=int(input('n2='))\n",
    "if n1 > n2:  \n",
    "    high = n1  \n",
    "else:  \n",
    "    high = n2  \n",
    "while(True):  \n",
    "    if((high % n1 == 0) and (high % n2 == 0)):  \n",
    "        lcm = high  \n",
    "        break \n",
    "    high =  high + 1\n",
    "print (\"LCM of\",n1,\"and\",n2,\"is\",\"=\", lcm)\n"
   ]
  },
  {
   "cell_type": "code",
   "execution_count": 2,
   "metadata": {},
   "outputs": [
    {
     "name": "stdout",
     "output_type": "stream",
     "text": [
      "Enter the value: 13\n",
      "Enter the value: 65\n",
      "HCF of a,b is 13\n"
     ]
    }
   ],
   "source": [
    "#Ans2.\n",
    "a = int(input('Enter the value: '))\n",
    "b = int(input('Enter the value: '))\n",
    "\n",
    "while a%b != 0:\n",
    "    rem = a%b\n",
    "    a = b\n",
    "    b=rem\n",
    "print('HCF of a,b is',b)\n",
    "    "
   ]
  },
  {
   "cell_type": "code",
   "execution_count": 3,
   "metadata": {},
   "outputs": [
    {
     "name": "stdout",
     "output_type": "stream",
     "text": [
      "Decimal value = 1000\n",
      "Decimal(base-10) to binary(base-2) =  0b1111101000\n",
      "Decimal(base-10) to octal(base-8) =  0o1750\n",
      "Decimal(base-10) to hexadecimal(base-8) =  0x3e8\n"
     ]
    }
   ],
   "source": [
    "#Ans3.\n",
    "\n",
    "decimal = int(input('Decimal value = '))\n",
    "print('Decimal(base-10) to binary(base-2) = ',bin(decimal))\n",
    "print('Decimal(base-10) to octal(base-8) = ',oct(decimal))\n",
    "print('Decimal(base-10) to hexadecimal(base-8) = ',hex(decimal))"
   ]
  },
  {
   "cell_type": "code",
   "execution_count": 5,
   "metadata": {},
   "outputs": [
    {
     "name": "stdout",
     "output_type": "stream",
     "text": [
      "Enter any character: k\n",
      "The ASCII value of k is 107\n"
     ]
    }
   ],
   "source": [
    "#Ans4.\n",
    "\n",
    "char = input('Enter any character: ')\n",
    "print('The ASCII value of',char,'is',ord(char))\n"
   ]
  },
  {
   "cell_type": "code",
   "execution_count": 6,
   "metadata": {},
   "outputs": [
    {
     "name": "stdout",
     "output_type": "stream",
     "text": [
      "Enter choice(1/2/3/4) and get the mathematical operation:1\n",
      "Enter first number: 1000\n",
      "Enter second number: 2\n",
      "Choice 1 gives addition so 1000 + 2 = 1002\n"
     ]
    }
   ],
   "source": [
    "#Ans5.\n",
    "\n",
    "while True:\n",
    "    \n",
    "    choice = input('Enter choice(1/2/3/4) and get the mathematical operation:')\n",
    "\n",
    "    if choice in ('1','2','3','4'):\n",
    "        num1=int(input('Enter first number: '))\n",
    "        num2=int(input('Enter second number: '))\n",
    "    \n",
    "        if choice == '1':\n",
    "            print('Choice 1 gives addition so' ,num1,'+',num2,'=',(num1+num2))\n",
    "        elif choice == '2':\n",
    "            print('choice 2 gives subtraction so' ,num1,'-',num2,'=',(num1-num2))\n",
    "        elif choice == '3':\n",
    "            print('choice 3 gives multiplication so', num1,'*',num2,'=',(num1*num2))\n",
    "        elif choice == '4':\n",
    "            print('choice 4 gives division so', num1,'/',num2,'=',(num1/num2))\n",
    "        break\n",
    "    else:\n",
    "        print('Invalid')"
   ]
  },
  {
   "cell_type": "code",
   "execution_count": null,
   "metadata": {},
   "outputs": [],
   "source": []
  }
 ],
 "metadata": {
  "kernelspec": {
   "display_name": "Python 3",
   "language": "python",
   "name": "python3"
  },
  "language_info": {
   "codemirror_mode": {
    "name": "ipython",
    "version": 3
   },
   "file_extension": ".py",
   "mimetype": "text/x-python",
   "name": "python",
   "nbconvert_exporter": "python",
   "pygments_lexer": "ipython3",
   "version": "3.8.3"
  }
 },
 "nbformat": 4,
 "nbformat_minor": 4
}
