{
 "cells": [
  {
   "cell_type": "markdown",
   "id": "bac6d708",
   "metadata": {},
   "source": [
    "## Python basic assignment - 10"
   ]
  },
  {
   "cell_type": "markdown",
   "id": "3def40a6",
   "metadata": {},
   "source": [
    "### 1. Write a Python program to find sum of elements in list?"
   ]
  },
  {
   "cell_type": "code",
   "execution_count": 6,
   "id": "99709195",
   "metadata": {},
   "outputs": [
    {
     "name": "stdout",
     "output_type": "stream",
     "text": [
      "sum of list =  390\n"
     ]
    }
   ],
   "source": [
    "def sum_of_list(lst):\n",
    "    total = 0\n",
    "    for i in lst:\n",
    "        total += i\n",
    "    print(\"sum of list = \",total)\n",
    "lst = list(range(10,30))\n",
    "sum_of_list(lst)"
   ]
  },
  {
   "cell_type": "markdown",
   "id": "c965f5db",
   "metadata": {},
   "source": [
    "### 2. Write a Python program to Multiply all numbers in the list?"
   ]
  },
  {
   "cell_type": "code",
   "execution_count": 7,
   "id": "205f75c4",
   "metadata": {},
   "outputs": [
    {
     "name": "stdout",
     "output_type": "stream",
     "text": [
      "Total multiplication =  3632428800\n"
     ]
    }
   ],
   "source": [
    "def multily_of_element_in_list(lst):\n",
    "    start = 1\n",
    "    for i in lst:\n",
    "        start *= i\n",
    "    print(\"Total multiplication = \",start)\n",
    "lst = list(range(5,15))\n",
    "multily_of_element_in_list(lst)"
   ]
  },
  {
   "cell_type": "markdown",
   "id": "06858381",
   "metadata": {},
   "source": [
    "### 3. Write a Python program to find smallest number in a list?"
   ]
  },
  {
   "cell_type": "code",
   "execution_count": 9,
   "id": "08d9fd80",
   "metadata": {},
   "outputs": [
    {
     "data": {
      "text/plain": [
       "'smallest number is -29'"
      ]
     },
     "execution_count": 9,
     "metadata": {},
     "output_type": "execute_result"
    }
   ],
   "source": [
    "def smallest_no_in_list(lst):\n",
    "    return f'smallest number is {min(lst)}'\n",
    "\n",
    "lst = [-1,-5,0,5,6,-29,0,78,95]\n",
    "smallest_no_in_list(lst)"
   ]
  },
  {
   "cell_type": "markdown",
   "id": "05b16dde",
   "metadata": {},
   "source": [
    "### 4. Write a Python program to find largest number in a list?"
   ]
  },
  {
   "cell_type": "code",
   "execution_count": 10,
   "id": "513b797f",
   "metadata": {},
   "outputs": [
    {
     "data": {
      "text/plain": [
       "'largest number is 95'"
      ]
     },
     "execution_count": 10,
     "metadata": {},
     "output_type": "execute_result"
    }
   ],
   "source": [
    "def largest_no_in_list(lst):\n",
    "    return f'largest number is {max(lst)}'\n",
    "\n",
    "lst = [-1,-5,0,5,6,-29,0,78,95]\n",
    "largest_no_in_list(lst)"
   ]
  },
  {
   "cell_type": "markdown",
   "id": "f1372d4a",
   "metadata": {},
   "source": [
    "### 5. Write a Python program to find second largest number in a list?"
   ]
  },
  {
   "cell_type": "code",
   "execution_count": 26,
   "id": "6775a8d9",
   "metadata": {},
   "outputs": [
    {
     "data": {
      "text/plain": [
       "'second-largest = 78'"
      ]
     },
     "execution_count": 26,
     "metadata": {},
     "output_type": "execute_result"
    }
   ],
   "source": [
    "def second_largestno_list(lst):\n",
    "    sort = sorted(lst)\n",
    "    reverse = sort[::-1]\n",
    "    return f'second-largest = {reverse[1]}'\n",
    "\n",
    "lst = [-1,-5,0,5,6,-29,0,78,95]\n",
    "second_largestno_list(lst)"
   ]
  },
  {
   "cell_type": "markdown",
   "id": "e9fae620",
   "metadata": {},
   "source": [
    "### 6. Write a Python program to find N largest elements from a list?\n"
   ]
  },
  {
   "cell_type": "code",
   "execution_count": 41,
   "id": "783b1c68",
   "metadata": {},
   "outputs": [
    {
     "name": "stdout",
     "output_type": "stream",
     "text": [
      "Enter nth largest number:10\n",
      "Index 9 is not found for 10 largest element.\n"
     ]
    }
   ],
   "source": [
    "def N_largest(lst):\n",
    "    n = int(input(\"Enter nth largest number:\"))\n",
    "    sort = sorted(lst)\n",
    "    reverse = sort[::-1]\n",
    "    if n-1 not in reverse:\n",
    "        print(f'Index {n-1} is not found for {n} largest element.')\n",
    "    else:\n",
    "        return f'{n}th largest number = {reverse[n-1:n]}'\n",
    "\n",
    "lst = list(range(85,102,2))\n",
    "N_largest(lst)\n"
   ]
  },
  {
   "cell_type": "markdown",
   "id": "f7633e7f",
   "metadata": {},
   "source": [
    "### 7. Write a Python program to print even numbers in a list?\n"
   ]
  },
  {
   "cell_type": "code",
   "execution_count": 55,
   "id": "802014a5",
   "metadata": {},
   "outputs": [
    {
     "data": {
      "text/plain": [
       "[2, 6, 18]"
      ]
     },
     "execution_count": 55,
     "metadata": {},
     "output_type": "execute_result"
    }
   ],
   "source": [
    "def even_no_in_list(lst):\n",
    "    even_number = [i for i in lst if i % 2 == 0]\n",
    "    return even_number\n",
    "            \n",
    "lst = [17,65,25,2,6,18,19]\n",
    "even_no_in_list(lst)"
   ]
  },
  {
   "cell_type": "markdown",
   "id": "6fbefa11",
   "metadata": {},
   "source": [
    "### 8. Write a Python program to print odd numbers in a List?\n"
   ]
  },
  {
   "cell_type": "code",
   "execution_count": 56,
   "id": "f693bdf1",
   "metadata": {},
   "outputs": [
    {
     "data": {
      "text/plain": [
       "[17, 65, 25, 19]"
      ]
     },
     "execution_count": 56,
     "metadata": {},
     "output_type": "execute_result"
    }
   ],
   "source": [
    "def odd_no_in_list(lst):\n",
    "    odd_number = [i for i in lst if i % 2 != 0]\n",
    "    return odd_number\n",
    "            \n",
    "lst = [17,65,25,2,6,18,19]\n",
    "odd_no_in_list(lst)"
   ]
  },
  {
   "cell_type": "markdown",
   "id": "03b4dc03",
   "metadata": {},
   "source": [
    "### 9. Write a Python program to Remove empty List from List?\n"
   ]
  },
  {
   "cell_type": "code",
   "execution_count": 84,
   "id": "a4cd47d6",
   "metadata": {},
   "outputs": [
    {
     "name": "stdout",
     "output_type": "stream",
     "text": [
      "[1, 2, 3, 4, 5, [5, 6, 7, 5]]\n"
     ]
    }
   ],
   "source": [
    "def remove_empty_list(lst): \n",
    "    for i in l:\n",
    "        if type(i)==list or None:\n",
    "               l.remove(i)\n",
    "    print(lst)  \n",
    "\n",
    "l= [1,2,3,[],4,5,[],[5,6,7,5],[]]\n",
    "remove_empty_list(l)"
   ]
  },
  {
   "cell_type": "markdown",
   "id": "cfe7da80",
   "metadata": {},
   "source": [
    "### 10. Write a Python program to Cloning or Copying a list?\n"
   ]
  },
  {
   "cell_type": "code",
   "execution_count": 88,
   "id": "6bb265f6",
   "metadata": {},
   "outputs": [
    {
     "name": "stdout",
     "output_type": "stream",
     "text": [
      "clone of list = [5, 6, 7, 8, [9, 10, 15], [5, 6, 7], 5, 6, 7]\n"
     ]
    }
   ],
   "source": [
    "def copy_list(lst):\n",
    "    copied_list = lst.copy()\n",
    "    print(f'clone of list = {lst}')\n",
    "    \n",
    "l = [5,6,7,8,[9,10,15],[5,6,7],5,6,7]\n",
    "copy_list(l)"
   ]
  },
  {
   "cell_type": "markdown",
   "id": "1d9f39e7",
   "metadata": {},
   "source": [
    "### 11. Write a Python program to Count occurrences of an element in a list?"
   ]
  },
  {
   "cell_type": "code",
   "execution_count": 118,
   "id": "34ac9177",
   "metadata": {},
   "outputs": [
    {
     "name": "stdout",
     "output_type": "stream",
     "text": [
      "Enter element: 5\n",
      "5 occurs 3 times.\n"
     ]
    }
   ],
   "source": [
    "def count_of_element(lst):\n",
    "    count = 0\n",
    "    element = int(input('Enter element: '))\n",
    "    for i in lst:\n",
    "        if element not in lst:\n",
    "            print(\"element is not found in the list.\")\n",
    "        if (element in lst) and (element==i) :\n",
    "            count = count+ 1\n",
    "    print(f'{element} occurs {count} times.')\n",
    "\n",
    "count_of_element([1,1,5,2,7,8,1,8,1,5,5])"
   ]
  }
 ],
 "metadata": {
  "kernelspec": {
   "display_name": "Python 3",
   "language": "python",
   "name": "python3"
  },
  "language_info": {
   "codemirror_mode": {
    "name": "ipython",
    "version": 3
   },
   "file_extension": ".py",
   "mimetype": "text/x-python",
   "name": "python",
   "nbconvert_exporter": "python",
   "pygments_lexer": "ipython3",
   "version": "3.8.8"
  }
 },
 "nbformat": 4,
 "nbformat_minor": 5
}
