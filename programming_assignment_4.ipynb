{
 "cells": [
  {
   "cell_type": "markdown",
   "metadata": {},
   "source": [
    "1.\tWrite a Python Program to Find the Factorial of a Number?\n",
    "2.\tWrite a Python Program to Display the multiplication Table?\n",
    "3.\tWrite a Python Program to Print the Fibonacci sequence?\n",
    "4.\tWrite a Python Program to Check Armstrong Number?\n",
    "5.\tWrite a Python Program to Find Armstrong Number in an Interval?\n",
    "6.\tWrite a Python Program to Find the Sum of Natural Numbers?\n"
   ]
  },
  {
   "cell_type": "code",
   "execution_count": 1,
   "metadata": {},
   "outputs": [
    {
     "name": "stdout",
     "output_type": "stream",
     "text": [
      "Enter the number to find its factorial: 10\n",
      "Factorial of 10 is 3628800\n"
     ]
    }
   ],
   "source": [
    "#Ans1\n",
    "\n",
    "num = int(input('Enter the number to find its factorial: '))\n",
    "factorial = 1\n",
    "if num < 0:\n",
    "    print(\"Factorial doesn't exists\")\n",
    "elif num == 0:\n",
    "    print(num,'factorial is equal to 0.')\n",
    "\n",
    "else:\n",
    "    for i in range(1,num+1):\n",
    "        factorial*= i\n",
    "    print('Factorial of',num ,'is',factorial)\n"
   ]
  },
  {
   "cell_type": "code",
   "execution_count": 2,
   "metadata": {},
   "outputs": [
    {
     "name": "stdout",
     "output_type": "stream",
     "text": [
      "Enter the number to get its table: 35\n",
      "35 x 1 = 35\n",
      "35 x 2 = 70\n",
      "35 x 3 = 105\n",
      "35 x 4 = 140\n",
      "35 x 5 = 175\n",
      "35 x 6 = 210\n",
      "35 x 7 = 245\n",
      "35 x 8 = 280\n",
      "35 x 9 = 315\n",
      "35 x 10 = 350\n"
     ]
    }
   ],
   "source": [
    "#Ans2.\n",
    "\n",
    "a = int(input('Enter the number to get its table: '))\n",
    "\n",
    "for i in range(1,11):\n",
    "    print(a,'x',i,'=',a*i)"
   ]
  },
  {
   "cell_type": "code",
   "execution_count": 3,
   "metadata": {},
   "outputs": [
    {
     "name": "stdout",
     "output_type": "stream",
     "text": [
      "Enter the terms: 20\n",
      "The fibonacci series of given 20 terms\n",
      "1\n",
      "1\n",
      "2\n",
      "3\n",
      "5\n",
      "8\n",
      "13\n",
      "21\n",
      "34\n",
      "55\n",
      "89\n",
      "144\n",
      "233\n",
      "377\n",
      "610\n",
      "987\n",
      "1597\n",
      "2584\n",
      "4181\n",
      "6765\n"
     ]
    }
   ],
   "source": [
    "#Ans3.\n",
    "n=int(input('Enter the terms: '))\n",
    "print('The fibonacci series of given',n,'terms')\n",
    "a=1\n",
    "b=1\n",
    "for i in range(n):\n",
    "    print (a)\n",
    "    a ,b = b, a+b\n",
    "    \n"
   ]
  },
  {
   "cell_type": "code",
   "execution_count": 4,
   "metadata": {},
   "outputs": [
    {
     "name": "stdout",
     "output_type": "stream",
     "text": [
      "Take a input from the user, n = 854\n",
      "854 is not armstrong number\n"
     ]
    }
   ],
   "source": [
    "#Ans4.\n",
    "# armstrong abc.......ndigit = a**n+b**n+...\n",
    "\n",
    "n = int(input('Take a input from the user, n = '))\n",
    "sum = 0\n",
    "order = len(str(n))\n",
    "copy_n = n\n",
    "\n",
    "while n>0:\n",
    "    digit = n%10\n",
    "    sum += digit**order\n",
    "    n = n//10\n",
    "    \n",
    "    \n",
    "if sum==copy_n:\n",
    "    print(copy_n,'is armstrong number')\n",
    "else:\n",
    "    print(copy_n,'is not armstrong number')\n",
    "    "
   ]
  },
  {
   "cell_type": "code",
   "execution_count": 5,
   "metadata": {},
   "outputs": [
    {
     "name": "stdout",
     "output_type": "stream",
     "text": [
      "Enter lower range :1000\n",
      "Enter upper range :5000\n",
      "1634 is an armstrong number\n"
     ]
    }
   ],
   "source": [
    "#Ans5.\n",
    "\n",
    "lower = int(input('Enter lower range :'))\n",
    "upper = int(input('Enter upper range :'))\n",
    "\n",
    "for n in range(lower , upper+1):    \n",
    "    sum = 0\n",
    "    order = len(str(n))\n",
    "    copy_n = n\n",
    "    while n>0:\n",
    "        digit = n%10\n",
    "        sum += digit**order\n",
    "        n = n//10    \n",
    "    if sum==copy_n:\n",
    "        print(copy_n,'is an armstrong number')    \n",
    "    "
   ]
  },
  {
   "cell_type": "code",
   "execution_count": 7,
   "metadata": {},
   "outputs": [
    {
     "name": "stdout",
     "output_type": "stream",
     "text": [
      "Enter any number to find the sum upto that number:1000\n",
      "The sum of first  1000 numbers is 500500\n"
     ]
    }
   ],
   "source": [
    "#Ans6.\n",
    "n = int(input(\"Enter any number to find the sum upto that number:\"))\n",
    "sum = 0\n",
    "for i in range(0,n+1):\n",
    "    sum+=i\n",
    "print('The sum of first ',n,'numbers is',sum)"
   ]
  },
  {
   "cell_type": "code",
   "execution_count": null,
   "metadata": {},
   "outputs": [],
   "source": []
  }
 ],
 "metadata": {
  "kernelspec": {
   "display_name": "Python 3",
   "language": "python",
   "name": "python3"
  },
  "language_info": {
   "codemirror_mode": {
    "name": "ipython",
    "version": 3
   },
   "file_extension": ".py",
   "mimetype": "text/x-python",
   "name": "python",
   "nbconvert_exporter": "python",
   "pygments_lexer": "ipython3",
   "version": "3.8.3"
  }
 },
 "nbformat": 4,
 "nbformat_minor": 4
}
