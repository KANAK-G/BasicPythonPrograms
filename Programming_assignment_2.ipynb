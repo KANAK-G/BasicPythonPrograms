{
 "cells": [
  {
   "cell_type": "markdown",
   "metadata": {},
   "source": [
    "1.\tWrite a Python program to convert kilometers to miles?\n",
    "2.\tWrite a Python program to convert Celsius to Fahrenheit?\n",
    "3.\tWrite a Python program to display calendar?\n",
    "4.\tWrite a Python program to solve quadratic equation?\n",
    "5.\tWrite a Python program to swap two variables without temp variable?\n"
   ]
  },
  {
   "cell_type": "code",
   "execution_count": 10,
   "metadata": {},
   "outputs": [
    {
     "name": "stdout",
     "output_type": "stream",
     "text": [
      "Enter the distance in kilometers: 95\n",
      "95 km = 59.043 miles\n"
     ]
    }
   ],
   "source": [
    "#Ans1.\n",
    "\n",
    "km = int(input('Enter the distance in kilometers: '))\n",
    "miles = km*1/1.609\n",
    "print('{} km = {} miles'.format(km,round(miles,3)))\n"
   ]
  },
  {
   "cell_type": "code",
   "execution_count": 11,
   "metadata": {},
   "outputs": [
    {
     "name": "stdout",
     "output_type": "stream",
     "text": [
      "Enter the temperature in celsius: 35\n",
      "35°C = 95.0°F\n"
     ]
    }
   ],
   "source": [
    "#Ans2.\n",
    "\n",
    "C = int(input('Enter the temperature in celsius: '))\n",
    "F = (C * 9/5) + 32\n",
    "print('{}°C = {}°F'.format(C,F))\n",
    " "
   ]
  },
  {
   "cell_type": "code",
   "execution_count": 12,
   "metadata": {},
   "outputs": [],
   "source": [
    "import calendar"
   ]
  },
  {
   "cell_type": "code",
   "execution_count": 13,
   "metadata": {},
   "outputs": [
    {
     "name": "stdout",
     "output_type": "stream",
     "text": [
      "Enter year : 2021\n",
      "Enter month : 4\n",
      "     April 2021\n",
      "Mo Tu We Th Fr Sa Su\n",
      "          1  2  3  4\n",
      " 5  6  7  8  9 10 11\n",
      "12 13 14 15 16 17 18\n",
      "19 20 21 22 23 24 25\n",
      "26 27 28 29 30\n",
      "\n"
     ]
    }
   ],
   "source": [
    "#Ans3.\n",
    "\n",
    "year = int(input('Enter year : '))\n",
    "month = int(input('Enter month : '))\n",
    "print(calendar.month(year,month))"
   ]
  },
  {
   "cell_type": "code",
   "execution_count": 14,
   "metadata": {},
   "outputs": [
    {
     "name": "stdout",
     "output_type": "stream",
     "text": [
      "Enter the value: 4\n",
      "Enter the value: 4\n",
      "Enter the value: 1\n",
      "-0.5,-0.5 are two roots of equation 4x**2 + 4*x + 1\n"
     ]
    }
   ],
   "source": [
    "#Ans4. quadratic eqn = ax**2+b*x+c\n",
    "\n",
    "a = int(input('Enter the value: '))\n",
    "b = int(input('Enter the value: '))\n",
    "c = int(input('Enter the value: '))\n",
    "sol1 = (-b + (b**2 -4*a*c)**0.5)/(2*a)\n",
    "sol2 = (-b - (b**2 -4*a*c)**0.5)/(2*a)\n",
    "print('{},{} are two roots of equation {}x**2 + {}*x + {}'.format(round(sol1,2),round(sol2,3),a,b,c))"
   ]
  },
  {
   "cell_type": "code",
   "execution_count": 15,
   "metadata": {},
   "outputs": [
    {
     "name": "stdout",
     "output_type": "stream",
     "text": [
      "Put integer value of x : 95\n",
      "Put integer value of y : 65\n",
      "x =  65\n",
      "y =  95\n",
      "x + y = 160\n"
     ]
    }
   ],
   "source": [
    "#Ans5.\n",
    "\n",
    "x = int(input('Put integer value of x : '))\n",
    "y = int(input('Put integer value of y : '))\n",
    "x,y = y,x \n",
    "print('x = ',x)\n",
    "print('y = ',y)\n",
    "print('x + y =',x+y)"
   ]
  },
  {
   "cell_type": "code",
   "execution_count": null,
   "metadata": {},
   "outputs": [],
   "source": []
  }
 ],
 "metadata": {
  "kernelspec": {
   "display_name": "Python 3",
   "language": "python",
   "name": "python3"
  },
  "language_info": {
   "codemirror_mode": {
    "name": "ipython",
    "version": 3
   },
   "file_extension": ".py",
   "mimetype": "text/x-python",
   "name": "python",
   "nbconvert_exporter": "python",
   "pygments_lexer": "ipython3",
   "version": "3.8.3"
  }
 },
 "nbformat": 4,
 "nbformat_minor": 4
}
