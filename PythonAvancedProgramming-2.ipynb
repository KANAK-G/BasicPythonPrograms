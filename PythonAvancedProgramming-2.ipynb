{
 "cells": [
  {
   "cell_type": "markdown",
   "id": "57f9c4ac",
   "metadata": {},
   "source": [
    "# PythonAvancedProgramming-2"
   ]
  },
  {
   "cell_type": "markdown",
   "id": "520aecff",
   "metadata": {},
   "source": [
    "    1. Write a function that takes a positive integer num and calculates how many\n",
    "    dots exist in a pentagonal shape around the center dot on the Nth iteration.\n",
    "    In the image below you can see the first iteration is only a single dot. On the\n",
    "    second, there are 6 dots. On the third, there are 16 dots, and on the fourth\n",
    "    there are 31 dots.\n",
    "\n",
    "    Return the number of dots that exist in the whole pentagon on the Nth\n",
    "    iteration.\n",
    "    Examples\n",
    "    pentagonal(1) ➞ 1\n",
    "    pentagonal(2) ➞ 6\n",
    "    pentagonal(3) ➞ 16\n",
    "    pentagonal(8) ➞ 141"
   ]
  },
  {
   "cell_type": "code",
   "execution_count": 1,
   "id": "624a7e3e",
   "metadata": {},
   "outputs": [],
   "source": [
    "def pentagonal(n): \n",
    "    # Formula to calculate nth Centered pentagonal number.     \n",
    "    return (5 * n * n - 5 * n + 2) // 2"
   ]
  },
  {
   "cell_type": "code",
   "execution_count": 2,
   "id": "10b2def6",
   "metadata": {},
   "outputs": [
    {
     "data": {
      "text/plain": [
       "1"
      ]
     },
     "execution_count": 2,
     "metadata": {},
     "output_type": "execute_result"
    }
   ],
   "source": [
    "pentagonal(1)"
   ]
  },
  {
   "cell_type": "code",
   "execution_count": 3,
   "id": "dc752948",
   "metadata": {},
   "outputs": [
    {
     "data": {
      "text/plain": [
       "6"
      ]
     },
     "execution_count": 3,
     "metadata": {},
     "output_type": "execute_result"
    }
   ],
   "source": [
    "pentagonal(2)"
   ]
  },
  {
   "cell_type": "code",
   "execution_count": 4,
   "id": "1d14898b",
   "metadata": {},
   "outputs": [
    {
     "data": {
      "text/plain": [
       "16"
      ]
     },
     "execution_count": 4,
     "metadata": {},
     "output_type": "execute_result"
    }
   ],
   "source": [
    "pentagonal(3)"
   ]
  },
  {
   "cell_type": "code",
   "execution_count": 5,
   "id": "9543dd0a",
   "metadata": {},
   "outputs": [
    {
     "data": {
      "text/plain": [
       "141"
      ]
     },
     "execution_count": 5,
     "metadata": {},
     "output_type": "execute_result"
    }
   ],
   "source": [
    "pentagonal(8)"
   ]
  },
  {
   "cell_type": "markdown",
   "id": "fb395a5d",
   "metadata": {},
   "source": [
    "    2. Make a function that encrypts a given input with these steps:\n",
    "    Input: 'apple'\n",
    "    Step 1: Reverse the input: 'elppa'\n",
    "    Step 2: Replace all vowels using the following chart:\n",
    "    a => 0\n",
    "    e => 1\n",
    "    i => 2\n",
    "    o => 2\n",
    "    u => 3\n",
    "    # '1lpp0'\n",
    "    Step 3: Add 'aca' to the end of the word: '1lpp0aca'\n",
    "    Output: '1lpp0aca'\n",
    "    Examples\n",
    "    encrypt('banana') ➞ '0n0n0baca'\n",
    "    encrypt('karaca') ➞ '0c0r0kaca'\n",
    "    encrypt('burak') ➞ 'k0r3baca'\n",
    "    encrypt('alpaca') ➞ '0c0pl0aca'"
   ]
  },
  {
   "cell_type": "code",
   "execution_count": 8,
   "id": "fba7fe4d",
   "metadata": {},
   "outputs": [],
   "source": [
    "def encrypt(s):\n",
    "    vowel = 'aeiou'\n",
    "    codes = {'a':0,'e':1,'i':2,'o':2,'u':3}\n",
    "    s = s.lower()\n",
    "    s = s[::-1]\n",
    "    encoded =[]\n",
    "    for i in range(len(s)):\n",
    "        if s[i] in vowel:\n",
    "            encoded.append(str(codes[s[i]]))\n",
    "        else:\n",
    "            encoded.append(s[i])\n",
    "    return(''.join(encoded) + 'aca')"
   ]
  },
  {
   "cell_type": "code",
   "execution_count": 9,
   "id": "0ce03800",
   "metadata": {},
   "outputs": [
    {
     "data": {
      "text/plain": [
       "'0n0n0baca'"
      ]
     },
     "execution_count": 9,
     "metadata": {},
     "output_type": "execute_result"
    }
   ],
   "source": [
    "encrypt('banana')"
   ]
  },
  {
   "cell_type": "code",
   "execution_count": 10,
   "id": "811e1d33",
   "metadata": {},
   "outputs": [
    {
     "data": {
      "text/plain": [
       "'0c0r0kaca'"
      ]
     },
     "execution_count": 10,
     "metadata": {},
     "output_type": "execute_result"
    }
   ],
   "source": [
    "encrypt('karaca')"
   ]
  },
  {
   "cell_type": "code",
   "execution_count": 11,
   "id": "c288a8d1",
   "metadata": {},
   "outputs": [
    {
     "data": {
      "text/plain": [
       "'k0r3baca'"
      ]
     },
     "execution_count": 11,
     "metadata": {},
     "output_type": "execute_result"
    }
   ],
   "source": [
    "encrypt('burak')"
   ]
  },
  {
   "cell_type": "code",
   "execution_count": 12,
   "id": "3205304b",
   "metadata": {},
   "outputs": [
    {
     "data": {
      "text/plain": [
       "'0c0pl0aca'"
      ]
     },
     "execution_count": 12,
     "metadata": {},
     "output_type": "execute_result"
    }
   ],
   "source": [
    "encrypt('alpaca')"
   ]
  },
  {
   "cell_type": "markdown",
   "id": "20f9ece0",
   "metadata": {},
   "source": [
    "    3. Given the month and year as numbers, return whether that month contains a Friday 13th.(i.e You can check Python's datetime module)\n",
    "    Examples\n",
    "    has_friday_13(3, 2020) ➞ True\n",
    "    has_friday_13(10, 2017) ➞ True\n",
    "    has_friday_13(1, 1985) ➞ False"
   ]
  },
  {
   "cell_type": "code",
   "execution_count": 13,
   "id": "6e8dafe1",
   "metadata": {},
   "outputs": [],
   "source": [
    "import datetime \n",
    "def has_friday_13(month,year):\n",
    "    return(True if datetime.datetime.strptime('13 '+' '+str(month)+' '+str(year), '%d %m %Y').weekday()==4 else False) "
   ]
  },
  {
   "cell_type": "code",
   "execution_count": 14,
   "id": "43463eed",
   "metadata": {},
   "outputs": [
    {
     "data": {
      "text/plain": [
       "True"
      ]
     },
     "execution_count": 14,
     "metadata": {},
     "output_type": "execute_result"
    }
   ],
   "source": [
    "has_friday_13(3, 2020)"
   ]
  },
  {
   "cell_type": "code",
   "execution_count": 15,
   "id": "88b45e76",
   "metadata": {},
   "outputs": [
    {
     "data": {
      "text/plain": [
       "True"
      ]
     },
     "execution_count": 15,
     "metadata": {},
     "output_type": "execute_result"
    }
   ],
   "source": [
    "has_friday_13(10, 2017) "
   ]
  },
  {
   "cell_type": "code",
   "execution_count": 16,
   "id": "87d4eb4f",
   "metadata": {},
   "outputs": [
    {
     "data": {
      "text/plain": [
       "False"
      ]
     },
     "execution_count": 16,
     "metadata": {},
     "output_type": "execute_result"
    }
   ],
   "source": [
    "has_friday_13(1, 1985)"
   ]
  },
  {
   "cell_type": "markdown",
   "id": "21132f46",
   "metadata": {},
   "source": [
    "    4. Write a regular expression that will help us count how many bad cookies are produced every day. You must use RegEx negative lookbehind.\n",
    "    Example\n",
    "    lst = ['bad cookie', 'good cookie', 'bad cookie', 'good cookie', 'good cookie']\n",
    "    pattern = '^bad\\s\\w'\n",
    "    len(re.findall(pattern, ', '.join(lst))) ➞ 2"
   ]
  },
  {
   "cell_type": "code",
   "execution_count": 17,
   "id": "03ea4cf8",
   "metadata": {},
   "outputs": [
    {
     "data": {
      "text/plain": [
       "2"
      ]
     },
     "execution_count": 17,
     "metadata": {},
     "output_type": "execute_result"
    }
   ],
   "source": [
    "import re\n",
    "lst = ['bad cookie', 'good cookie', 'bad cookie', 'good cookie', 'good cookie']\n",
    "pattern = 'bad\\s\\w'\n",
    "len(re.findall(pattern, ', '.join(lst)))"
   ]
  },
  {
   "cell_type": "markdown",
   "id": "899cad4e",
   "metadata": {},
   "source": [
    "    5. Given a list of words in the singular form, return a set of those words in the plural form if they appear more than once in the list.\n",
    "    Examples\n",
    "    pluralize(['cow', 'pig', 'cow', 'cow']) ➞ { 'cows', 'pig' }\n",
    "    pluralize(['table', 'table', 'table']) ➞ { 'tables' }\n",
    "\n",
    "    pluralize(['chair', 'pencil', 'arm']) ➞ { 'chair', 'pencil', 'arm' }"
   ]
  },
  {
   "cell_type": "code",
   "execution_count": 18,
   "id": "060d54cc",
   "metadata": {},
   "outputs": [],
   "source": [
    "def pluralize(lst):\n",
    "    ls = []\n",
    "    print(\"The List :\",lst)\n",
    "    for i in lst:\n",
    "        if lst.count(i) > 1:\n",
    "            ls.append(i + 's')\n",
    "        else:\n",
    "            ls.append(i)\n",
    "    return set(ls)"
   ]
  },
  {
   "cell_type": "code",
   "execution_count": 19,
   "id": "50913b2c",
   "metadata": {},
   "outputs": [
    {
     "name": "stdout",
     "output_type": "stream",
     "text": [
      "The List : ['cow', 'pig', 'cow', 'cow']\n"
     ]
    },
    {
     "data": {
      "text/plain": [
       "{'cows', 'pig'}"
      ]
     },
     "execution_count": 19,
     "metadata": {},
     "output_type": "execute_result"
    }
   ],
   "source": [
    "pluralize(['cow', 'pig', 'cow', 'cow'])"
   ]
  },
  {
   "cell_type": "code",
   "execution_count": 20,
   "id": "dffaa75f",
   "metadata": {},
   "outputs": [
    {
     "name": "stdout",
     "output_type": "stream",
     "text": [
      "The List : ['table', 'table', 'table']\n"
     ]
    },
    {
     "data": {
      "text/plain": [
       "{'tables'}"
      ]
     },
     "execution_count": 20,
     "metadata": {},
     "output_type": "execute_result"
    }
   ],
   "source": [
    "pluralize(['table', 'table', 'table'])"
   ]
  },
  {
   "cell_type": "code",
   "execution_count": 21,
   "id": "af7838d8",
   "metadata": {},
   "outputs": [
    {
     "name": "stdout",
     "output_type": "stream",
     "text": [
      "The List : ['chair', 'pencil', 'arm']\n"
     ]
    },
    {
     "data": {
      "text/plain": [
       "{'arm', 'chair', 'pencil'}"
      ]
     },
     "execution_count": 21,
     "metadata": {},
     "output_type": "execute_result"
    }
   ],
   "source": [
    "pluralize(['chair', 'pencil', 'arm'])"
   ]
  },
  {
   "cell_type": "code",
   "execution_count": null,
   "id": "1a797733",
   "metadata": {},
   "outputs": [],
   "source": []
  }
 ],
 "metadata": {
  "kernelspec": {
   "display_name": "Python 3",
   "language": "python",
   "name": "python3"
  },
  "language_info": {
   "codemirror_mode": {
    "name": "ipython",
    "version": 3
   },
   "file_extension": ".py",
   "mimetype": "text/x-python",
   "name": "python",
   "nbconvert_exporter": "python",
   "pygments_lexer": "ipython3",
   "version": "3.8.8"
  }
 },
 "nbformat": 4,
 "nbformat_minor": 5
}
