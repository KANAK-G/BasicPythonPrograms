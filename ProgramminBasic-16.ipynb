{
 "cells": [
  {
   "cell_type": "markdown",
   "id": "49538b42",
   "metadata": {},
   "source": [
    "# PythonProgrammingBasic-16"
   ]
  },
  {
   "cell_type": "markdown",
   "id": "4d05846f",
   "metadata": {},
   "source": [
    "## Question1.\n",
    "    Write a function that stutters a word as if someone is struggling to read it. The\n",
    "    first two letters are repeated twice with an ellipsis ... and space after each, and then the\n",
    "    word is pronounced with a question mark ?.\n",
    "    Examples\n",
    "    stutter('incredible') ➞ 'in... in... incredible?'\n",
    "    stutter('enthusiastic') ➞ 'en... en... enthusiastic?'\n",
    "    stutter('outstanding') ➞ 'ou... ou... outstanding?'\n",
    "\n",
    "    Hint :- Assume all input is in lower case and at least two characters long."
   ]
  },
  {
   "cell_type": "code",
   "execution_count": 1,
   "id": "dbbfe35d",
   "metadata": {},
   "outputs": [],
   "source": [
    "def stutter(word):\n",
    "    return (2*(word[:2]+'... '))+word+'?'"
   ]
  },
  {
   "cell_type": "code",
   "execution_count": 2,
   "id": "ce067ebf",
   "metadata": {},
   "outputs": [
    {
     "data": {
      "text/plain": [
       "'in... in... incredible?'"
      ]
     },
     "execution_count": 2,
     "metadata": {},
     "output_type": "execute_result"
    }
   ],
   "source": [
    "stutter('incredible')"
   ]
  },
  {
   "cell_type": "code",
   "execution_count": 3,
   "id": "d0e28c69",
   "metadata": {},
   "outputs": [
    {
     "data": {
      "text/plain": [
       "'en... en... enthusiastic?'"
      ]
     },
     "execution_count": 3,
     "metadata": {},
     "output_type": "execute_result"
    }
   ],
   "source": [
    "stutter('enthusiastic') "
   ]
  },
  {
   "cell_type": "code",
   "execution_count": 4,
   "id": "5ae5dc07",
   "metadata": {},
   "outputs": [
    {
     "data": {
      "text/plain": [
       "'ou... ou... outstanding?'"
      ]
     },
     "execution_count": 4,
     "metadata": {},
     "output_type": "execute_result"
    }
   ],
   "source": [
    "stutter('outstanding')"
   ]
  },
  {
   "cell_type": "markdown",
   "id": "4a311278",
   "metadata": {},
   "source": [
    "## Question 2.\n",
    "    Create a function that takes an angle in radians and returns the corresponding\n",
    "    angle in degrees rounded to one decimal place.\n",
    "    Examples\n",
    "    radians_to_degrees(1) ➞ 57.3\n",
    "    radians_to_degrees(20) ➞ 1145.9\n",
    "    radians_to_degrees(50) ➞ 2864.8"
   ]
  },
  {
   "cell_type": "code",
   "execution_count": 5,
   "id": "84d8cc07",
   "metadata": {},
   "outputs": [],
   "source": [
    "def radians_to_degrees(radian):\n",
    "    pi = 3.14159\n",
    "    degree = radian * (180/pi)\n",
    "    return degree"
   ]
  },
  {
   "cell_type": "code",
   "execution_count": 6,
   "id": "99015fec",
   "metadata": {},
   "outputs": [
    {
     "data": {
      "text/plain": [
       "57.295827908797776"
      ]
     },
     "execution_count": 6,
     "metadata": {},
     "output_type": "execute_result"
    }
   ],
   "source": [
    "radians_to_degrees(1)"
   ]
  },
  {
   "cell_type": "code",
   "execution_count": 7,
   "id": "4b39cb94",
   "metadata": {},
   "outputs": [
    {
     "data": {
      "text/plain": [
       "1145.9165581759555"
      ]
     },
     "execution_count": 7,
     "metadata": {},
     "output_type": "execute_result"
    }
   ],
   "source": [
    "radians_to_degrees(20)"
   ]
  },
  {
   "cell_type": "code",
   "execution_count": 8,
   "id": "c15b6083",
   "metadata": {},
   "outputs": [
    {
     "data": {
      "text/plain": [
       "2864.7913954398887"
      ]
     },
     "execution_count": 8,
     "metadata": {},
     "output_type": "execute_result"
    }
   ],
   "source": [
    "radians_to_degrees(50)"
   ]
  },
  {
   "cell_type": "markdown",
   "id": "83c083ca",
   "metadata": {},
   "source": [
    "## Question 3.\n",
    "    In this challenge, establish if a given integer num is a Curzon number. If 1 plus\n",
    "    2 elevated to num is exactly divisible by 1 plus 2 multiplied by num, then num is a Curzon\n",
    "    number.\n",
    "    Given a non-negative integer num, implement a function that returns True if num is a Curzon\n",
    "    number, or False otherwise.\n",
    "    Examples\n",
    "    is_curzon(5) ➞ True\n",
    "    # 2 ** 5 + 1 = 33\n",
    "    # 2 * 5 + 1 = 11\n",
    "    # 33 is a multiple of 11\n",
    "    is_curzon(10) ➞ False\n",
    "    # 2 ** 10 + 1 = 1025\n",
    "    # 2 * 10 + 1 = 21\n",
    "    # 1025 is not a multiple of 21\n",
    "    is_curzon(14) ➞ True\n",
    "    # 2 ** 14 + 1 = 16385\n",
    "    # 2 * 14 + 1 = 29\n",
    "    # 16385 is a multiple of 29"
   ]
  },
  {
   "cell_type": "code",
   "execution_count": 9,
   "id": "426cd566",
   "metadata": {},
   "outputs": [],
   "source": [
    "def is_curzon(n):\n",
    " \n",
    "    power, product = 0, 0\n",
    " \n",
    "    # Find 2**n + 1\n",
    "    power = pow(2, n) + 1\n",
    " \n",
    "    # Find 2*n + 1\n",
    "    product = 2 * n + 1\n",
    " \n",
    "    # Check for divisibility\n",
    "    if (power % product == 0):\n",
    "        print(n, \"is Curzon Number\")\n",
    "    else:\n",
    "        print(n, \"is not a Curzon Number\")"
   ]
  },
  {
   "cell_type": "code",
   "execution_count": 10,
   "id": "665c69d4",
   "metadata": {},
   "outputs": [
    {
     "name": "stdout",
     "output_type": "stream",
     "text": [
      "5 is Curzon Number\n"
     ]
    }
   ],
   "source": [
    "is_curzon(5)"
   ]
  },
  {
   "cell_type": "code",
   "execution_count": 11,
   "id": "44aef2d7",
   "metadata": {},
   "outputs": [
    {
     "name": "stdout",
     "output_type": "stream",
     "text": [
      "10 is not a Curzon Number\n"
     ]
    }
   ],
   "source": [
    "is_curzon(10)"
   ]
  },
  {
   "cell_type": "code",
   "execution_count": 12,
   "id": "92f5c0eb",
   "metadata": {},
   "outputs": [
    {
     "name": "stdout",
     "output_type": "stream",
     "text": [
      "14 is Curzon Number\n"
     ]
    }
   ],
   "source": [
    "is_curzon(14) "
   ]
  },
  {
   "cell_type": "markdown",
   "id": "12e92f85",
   "metadata": {},
   "source": [
    "## Question 4.\n",
    "    Given the side length x find the area of a hexagon.\n",
    "\n",
    "    Examples\n",
    "    area_of_hexagon(1) ➞ 2.6\n",
    "    area_of_hexagon(2) ➞ 10.4\n",
    "    area_of_hexagon(3) ➞ 23.4"
   ]
  },
  {
   "cell_type": "code",
   "execution_count": 25,
   "id": "c9ffeceb",
   "metadata": {},
   "outputs": [],
   "source": [
    "import math\n",
    "def area_of_hexagon(sideLength):     \n",
    "    return ((3 * math.sqrt(3) * (sideLength * sideLength)) / 2)"
   ]
  },
  {
   "cell_type": "code",
   "execution_count": 26,
   "id": "2c974f96",
   "metadata": {},
   "outputs": [
    {
     "data": {
      "text/plain": [
       "2.6"
      ]
     },
     "execution_count": 26,
     "metadata": {},
     "output_type": "execute_result"
    }
   ],
   "source": [
    "round(area_of_hexagon(1),2)"
   ]
  },
  {
   "cell_type": "code",
   "execution_count": 27,
   "id": "ac7078e1",
   "metadata": {},
   "outputs": [
    {
     "data": {
      "text/plain": [
       "10.39"
      ]
     },
     "execution_count": 27,
     "metadata": {},
     "output_type": "execute_result"
    }
   ],
   "source": [
    "round(area_of_hexagon(2),2)"
   ]
  },
  {
   "cell_type": "code",
   "execution_count": 28,
   "id": "0963cf32",
   "metadata": {},
   "outputs": [
    {
     "data": {
      "text/plain": [
       "23.38"
      ]
     },
     "execution_count": 28,
     "metadata": {},
     "output_type": "execute_result"
    }
   ],
   "source": [
    "round(area_of_hexagon(3),2)"
   ]
  },
  {
   "cell_type": "markdown",
   "id": "d94a4259",
   "metadata": {},
   "source": [
    "## Question 5.\n",
    "    Create a function that returns a base-2 (binary) representation of a base-10\n",
    "    (decimal) string number. To convert is simple: ((2) means base-2 and (10) means base-10)\n",
    "    010101001(2) = 1 + 8 + 32 + 128.\n",
    "    Going from right to left, the value of the most right bit is 1, now from that every bit to the left\n",
    "    will be x2 the value, value of an 8 bit binary numbers are (256, 128, 64, 32, 16, 8, 4, 2, 1).\n",
    "    Examples\n",
    "    binary(1) ➞ '1'\n",
    "    # 1*1 = 1\n",
    "    binary(5) ➞ '101'\n",
    "    # 1*1 + 1*4 = 5\n",
    "    binary(10) ➞ '1010'\n",
    "    # 1*2 + 1*8 = 10"
   ]
  },
  {
   "cell_type": "code",
   "execution_count": 39,
   "id": "965ee8a8",
   "metadata": {},
   "outputs": [],
   "source": [
    "def binary(n):\n",
    "    return bin(n).replace(\"0b\", \"\")"
   ]
  },
  {
   "cell_type": "code",
   "execution_count": 40,
   "id": "ab3374cf",
   "metadata": {},
   "outputs": [
    {
     "data": {
      "text/plain": [
       "'1'"
      ]
     },
     "execution_count": 40,
     "metadata": {},
     "output_type": "execute_result"
    }
   ],
   "source": [
    "binary(1)"
   ]
  },
  {
   "cell_type": "code",
   "execution_count": 41,
   "id": "5be83b50",
   "metadata": {},
   "outputs": [
    {
     "data": {
      "text/plain": [
       "'101'"
      ]
     },
     "execution_count": 41,
     "metadata": {},
     "output_type": "execute_result"
    }
   ],
   "source": [
    "binary(5)"
   ]
  },
  {
   "cell_type": "code",
   "execution_count": 42,
   "id": "bd7be7e9",
   "metadata": {},
   "outputs": [
    {
     "data": {
      "text/plain": [
       "'1010'"
      ]
     },
     "execution_count": 42,
     "metadata": {},
     "output_type": "execute_result"
    }
   ],
   "source": [
    "binary(10)"
   ]
  },
  {
   "cell_type": "code",
   "execution_count": null,
   "id": "cb25cd8b",
   "metadata": {},
   "outputs": [],
   "source": []
  }
 ],
 "metadata": {
  "kernelspec": {
   "display_name": "Python 3",
   "language": "python",
   "name": "python3"
  },
  "language_info": {
   "codemirror_mode": {
    "name": "ipython",
    "version": 3
   },
   "file_extension": ".py",
   "mimetype": "text/x-python",
   "name": "python",
   "nbconvert_exporter": "python",
   "pygments_lexer": "ipython3",
   "version": "3.8.8"
  }
 },
 "nbformat": 4,
 "nbformat_minor": 5
}
