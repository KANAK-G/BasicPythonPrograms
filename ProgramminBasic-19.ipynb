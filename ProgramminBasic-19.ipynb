{
 "cells": [
  {
   "cell_type": "markdown",
   "id": "adf0a167",
   "metadata": {},
   "source": [
    "# PythonProgrammingBasic-19"
   ]
  },
  {
   "cell_type": "markdown",
   "id": "23bd0b4e",
   "metadata": {},
   "source": [
    "## Question1\n",
    "    Create a function that takes a string and returns a string in which each character is repeated\n",
    "    once.\n",
    "    Examples\n",
    "    double_char('String') ➞ 'SSttrriinngg'\n",
    "    double_char('Hello World!') ➞ 'HHeelllloo WWoorrlldd!!'\n",
    "    double_char('1234!_ ') ➞ '11223344!!__ '"
   ]
  },
  {
   "cell_type": "code",
   "execution_count": 3,
   "id": "ac4dc7d9",
   "metadata": {},
   "outputs": [],
   "source": [
    "def double_char(str):\n",
    "    return ''.join([c+c for c in str])\n"
   ]
  },
  {
   "cell_type": "code",
   "execution_count": 4,
   "id": "1e3d73cb",
   "metadata": {},
   "outputs": [
    {
     "data": {
      "text/plain": [
       "'SSttrriinngg'"
      ]
     },
     "execution_count": 4,
     "metadata": {},
     "output_type": "execute_result"
    }
   ],
   "source": [
    "double_char('String')"
   ]
  },
  {
   "cell_type": "code",
   "execution_count": 5,
   "id": "45409631",
   "metadata": {},
   "outputs": [
    {
     "data": {
      "text/plain": [
       "'HHeelllloo  WWoorrlldd!!'"
      ]
     },
     "execution_count": 5,
     "metadata": {},
     "output_type": "execute_result"
    }
   ],
   "source": [
    "double_char('Hello World!')"
   ]
  },
  {
   "cell_type": "code",
   "execution_count": 6,
   "id": "25bf6129",
   "metadata": {},
   "outputs": [
    {
     "data": {
      "text/plain": [
       "'11223344!!__  '"
      ]
     },
     "execution_count": 6,
     "metadata": {},
     "output_type": "execute_result"
    }
   ],
   "source": [
    "double_char('1234!_ ') "
   ]
  },
  {
   "cell_type": "markdown",
   "id": "45a3b960",
   "metadata": {},
   "source": [
    "## Question2\n",
    "    Create a function that reverses a boolean value and returns the string 'boolean expected'\n",
    "    if another variable type is given.\n",
    "    Examples\n",
    "    reverse(True) ➞ False\n",
    "    reverse(False) ➞ True\n",
    "    reverse(0) ➞ 'boolean expected'\n",
    "    reverse(None) ➞ 'boolean expected'"
   ]
  },
  {
   "cell_type": "code",
   "execution_count": 7,
   "id": "ffd3f815",
   "metadata": {},
   "outputs": [],
   "source": [
    "def reverse(arg=None):\n",
    "    return not arg if type(arg) == bool else \"boolean expected\"\n"
   ]
  },
  {
   "cell_type": "code",
   "execution_count": 8,
   "id": "1f833641",
   "metadata": {},
   "outputs": [
    {
     "data": {
      "text/plain": [
       "False"
      ]
     },
     "execution_count": 8,
     "metadata": {},
     "output_type": "execute_result"
    }
   ],
   "source": [
    "reverse(True) "
   ]
  },
  {
   "cell_type": "code",
   "execution_count": 9,
   "id": "8383a729",
   "metadata": {},
   "outputs": [
    {
     "data": {
      "text/plain": [
       "True"
      ]
     },
     "execution_count": 9,
     "metadata": {},
     "output_type": "execute_result"
    }
   ],
   "source": [
    "reverse(False)"
   ]
  },
  {
   "cell_type": "code",
   "execution_count": 10,
   "id": "9ec0c251",
   "metadata": {},
   "outputs": [
    {
     "data": {
      "text/plain": [
       "'boolean expected'"
      ]
     },
     "execution_count": 10,
     "metadata": {},
     "output_type": "execute_result"
    }
   ],
   "source": [
    "reverse(0)"
   ]
  },
  {
   "cell_type": "code",
   "execution_count": 11,
   "id": "a10f54d8",
   "metadata": {},
   "outputs": [
    {
     "data": {
      "text/plain": [
       "'boolean expected'"
      ]
     },
     "execution_count": 11,
     "metadata": {},
     "output_type": "execute_result"
    }
   ],
   "source": [
    "reverse(None)"
   ]
  },
  {
   "cell_type": "markdown",
   "id": "90152f54",
   "metadata": {},
   "source": [
    "## Question3\n",
    "    Create a function that returns the thickness (in meters) of a piece of paper after folding it n\n",
    "    number of times. The paper starts off with a thickness of 0.5mm.\n",
    "    Examples\n",
    "    num_layers(1) ➞ '0.001m'\n",
    "    # Paper folded once is 1mm (equal to 0.001m)\n",
    "    num_layers(4) ➞ '0.008m'\n",
    "    # Paper folded 4 times is 8mm (equal to 0.008m)\n",
    "    num_layers(21) ➞ '1048.576m'\n",
    "    # Paper folded 21 times is 1048576mm (equal to 1048.576m)"
   ]
  },
  {
   "cell_type": "code",
   "execution_count": 12,
   "id": "618692ff",
   "metadata": {},
   "outputs": [],
   "source": [
    "def num_layers(n):\n",
    "    thickness = 0.5\n",
    "    for _ in range(n):\n",
    "        thickness *= 2\n",
    "    \n",
    "    return str(thickness / 1000)+'m' # for meters"
   ]
  },
  {
   "cell_type": "code",
   "execution_count": 13,
   "id": "14448309",
   "metadata": {},
   "outputs": [
    {
     "data": {
      "text/plain": [
       "'0.001m'"
      ]
     },
     "execution_count": 13,
     "metadata": {},
     "output_type": "execute_result"
    }
   ],
   "source": [
    "num_layers(1) "
   ]
  },
  {
   "cell_type": "code",
   "execution_count": 14,
   "id": "843b0340",
   "metadata": {},
   "outputs": [
    {
     "data": {
      "text/plain": [
       "'0.008m'"
      ]
     },
     "execution_count": 14,
     "metadata": {},
     "output_type": "execute_result"
    }
   ],
   "source": [
    "num_layers(4) "
   ]
  },
  {
   "cell_type": "code",
   "execution_count": 15,
   "id": "94c982ca",
   "metadata": {},
   "outputs": [
    {
     "data": {
      "text/plain": [
       "'1048.576m'"
      ]
     },
     "execution_count": 15,
     "metadata": {},
     "output_type": "execute_result"
    }
   ],
   "source": [
    "num_layers(21) "
   ]
  },
  {
   "cell_type": "markdown",
   "id": "81b96bc0",
   "metadata": {},
   "source": [
    "## Question4\n",
    "    Create a function that takes a single string as argument and returns an ordered list containing\n",
    "    the indices of all capital letters in the string.\n",
    "    Examples\n",
    "    index_of_caps('eDaBiT') ➞ [1, 3, 5]\n",
    "    index_of_caps('eQuINoX') ➞ [1, 3, 4, 6]\n",
    "    index_of_caps('determine') ➞ []\n",
    "    index_of_caps('STRIKE') ➞ [0, 1, 2, 3, 4, 5]\n",
    "    index_of_caps('sUn') ➞ [1]"
   ]
  },
  {
   "cell_type": "code",
   "execution_count": 16,
   "id": "f4f262cc",
   "metadata": {},
   "outputs": [],
   "source": [
    "def index_of_caps(word):\n",
    "    indices = []\n",
    "    for i in range(len(word)):\n",
    "        if word[i].isupper():\n",
    "             indices.append(i)\n",
    "    return indices"
   ]
  },
  {
   "cell_type": "code",
   "execution_count": 17,
   "id": "b180db29",
   "metadata": {},
   "outputs": [
    {
     "data": {
      "text/plain": [
       "[1, 3, 5]"
      ]
     },
     "execution_count": 17,
     "metadata": {},
     "output_type": "execute_result"
    }
   ],
   "source": [
    "index_of_caps('eDaBiT')"
   ]
  },
  {
   "cell_type": "code",
   "execution_count": 18,
   "id": "639cc344",
   "metadata": {},
   "outputs": [
    {
     "data": {
      "text/plain": [
       "[1, 3, 4, 6]"
      ]
     },
     "execution_count": 18,
     "metadata": {},
     "output_type": "execute_result"
    }
   ],
   "source": [
    "index_of_caps('eQuINoX')"
   ]
  },
  {
   "cell_type": "code",
   "execution_count": 19,
   "id": "c8b90d3a",
   "metadata": {},
   "outputs": [
    {
     "data": {
      "text/plain": [
       "[]"
      ]
     },
     "execution_count": 19,
     "metadata": {},
     "output_type": "execute_result"
    }
   ],
   "source": [
    "index_of_caps('determine')"
   ]
  },
  {
   "cell_type": "code",
   "execution_count": 20,
   "id": "a38b17a6",
   "metadata": {},
   "outputs": [
    {
     "data": {
      "text/plain": [
       "[0, 1, 2, 3, 4, 5]"
      ]
     },
     "execution_count": 20,
     "metadata": {},
     "output_type": "execute_result"
    }
   ],
   "source": [
    "index_of_caps('STRIKE')"
   ]
  },
  {
   "cell_type": "code",
   "execution_count": 21,
   "id": "6ebb6960",
   "metadata": {},
   "outputs": [
    {
     "data": {
      "text/plain": [
       "[1]"
      ]
     },
     "execution_count": 21,
     "metadata": {},
     "output_type": "execute_result"
    }
   ],
   "source": [
    "index_of_caps('sUn')"
   ]
  },
  {
   "cell_type": "markdown",
   "id": "496d1a51",
   "metadata": {},
   "source": [
    "## Question5\n",
    "    Using list comprehensions, create a function that finds all even numbers from 1 to the given\n",
    "    number.\n",
    "    Examples\n",
    "    find_even_nums(8) ➞ [2, 4, 6, 8]\n",
    "    find_even_nums(4) ➞ [2, 4]\n",
    "    find_even_nums(2) ➞ [2]"
   ]
  },
  {
   "cell_type": "code",
   "execution_count": 22,
   "id": "f174eb06",
   "metadata": {},
   "outputs": [],
   "source": [
    "def find_even_nums(n):\n",
    "    even =[x for x in range(2,n+1) if x % 2 == 0]\n",
    "    return even\n"
   ]
  },
  {
   "cell_type": "code",
   "execution_count": 23,
   "id": "1b1cddce",
   "metadata": {},
   "outputs": [
    {
     "data": {
      "text/plain": [
       "[2, 4, 6, 8]"
      ]
     },
     "execution_count": 23,
     "metadata": {},
     "output_type": "execute_result"
    }
   ],
   "source": [
    "find_even_nums(8)"
   ]
  },
  {
   "cell_type": "code",
   "execution_count": 24,
   "id": "eb100fc7",
   "metadata": {},
   "outputs": [
    {
     "data": {
      "text/plain": [
       "[2, 4]"
      ]
     },
     "execution_count": 24,
     "metadata": {},
     "output_type": "execute_result"
    }
   ],
   "source": [
    "find_even_nums(4)"
   ]
  },
  {
   "cell_type": "code",
   "execution_count": 25,
   "id": "f796f7f2",
   "metadata": {},
   "outputs": [
    {
     "data": {
      "text/plain": [
       "[2]"
      ]
     },
     "execution_count": 25,
     "metadata": {},
     "output_type": "execute_result"
    }
   ],
   "source": [
    "find_even_nums(2)"
   ]
  },
  {
   "cell_type": "code",
   "execution_count": null,
   "id": "649b1a77",
   "metadata": {},
   "outputs": [],
   "source": []
  }
 ],
 "metadata": {
  "kernelspec": {
   "display_name": "Python 3",
   "language": "python",
   "name": "python3"
  },
  "language_info": {
   "codemirror_mode": {
    "name": "ipython",
    "version": 3
   },
   "file_extension": ".py",
   "mimetype": "text/x-python",
   "name": "python",
   "nbconvert_exporter": "python",
   "pygments_lexer": "ipython3",
   "version": "3.8.8"
  }
 },
 "nbformat": 4,
 "nbformat_minor": 5
}
