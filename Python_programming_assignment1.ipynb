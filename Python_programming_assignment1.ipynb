{
 "cells": [
  {
   "cell_type": "code",
   "execution_count": 1,
   "metadata": {},
   "outputs": [],
   "source": [
    "1.\tWrite a Python program to print \"Hello Python\"?\n",
    "2.\tWrite a Python program to do arithmetical operations addition and division.?\n",
    "3.\tWrite a Python program to find the area of a triangle?\n",
    "4.\tWrite a Python program to swap two variables?\n",
    "5.\tWrite a Python program to generate a random number\n"
   ]
  },
  {
   "cell_type": "code",
   "execution_count": 1,
   "metadata": {},
   "outputs": [
    {
     "name": "stdout",
     "output_type": "stream",
     "text": [
      "Hello Python\n"
     ]
    }
   ],
   "source": [
    "#Ans1. \n",
    "print('Hello Python')\n"
   ]
  },
  {
   "cell_type": "code",
   "execution_count": 3,
   "metadata": {},
   "outputs": [
    {
     "name": "stdout",
     "output_type": "stream",
     "text": [
      "Enter any integer value:150000\n",
      "Enter any integer value:15\n",
      "addition of 2 number 150000 and 15 is 150015\n",
      "division of 2 number 150000 and 15 is 10000.0\n"
     ]
    }
   ],
   "source": [
    "#Ans2.\n",
    "num1 = int(input('Enter any integer value:'))\n",
    "num2 = int(input('Enter any integer value:'))\n",
    "addition = num1 + num2\n",
    "print('addition of 2 number {} and {} is {}'.format(num1,num2,addition) )\n",
    "division = num1 / num2\n",
    "print('division of 2 number {} and {} is {}'.format(num1,num2,division))"
   ]
  },
  {
   "cell_type": "code",
   "execution_count": 7,
   "metadata": {},
   "outputs": [
    {
     "name": "stdout",
     "output_type": "stream",
     "text": [
      "Enter the value of base:18\n",
      "Enter the value of height:2\n",
      "base = 18 and height = 2 so area of triangle = 18.0 unit**2\n"
     ]
    }
   ],
   "source": [
    "#Ans3.\n",
    "base = int(input('Enter the value of base:'))\n",
    "height = int(input('Enter the value of height:'))\n",
    "area = (1/2 * base * height)\n",
    "print('base = {} and height = {} so area of triangle = {} unit**2'.format(base,height,area))"
   ]
  },
  {
   "cell_type": "code",
   "execution_count": 8,
   "metadata": {},
   "outputs": [
    {
     "name": "stdout",
     "output_type": "stream",
     "text": [
      "144\n"
     ]
    }
   ],
   "source": [
    "#Ans4\n",
    "a=12\n",
    "b=a\n",
    "print(a*b)"
   ]
  },
  {
   "cell_type": "code",
   "execution_count": 9,
   "metadata": {},
   "outputs": [
    {
     "data": {
      "text/plain": [
       "360"
      ]
     },
     "execution_count": 9,
     "metadata": {},
     "output_type": "execute_result"
    }
   ],
   "source": [
    "#Ans5.\n",
    "import random\n",
    "random.randrange(150,500)"
   ]
  },
  {
   "cell_type": "code",
   "execution_count": null,
   "metadata": {},
   "outputs": [],
   "source": []
  }
 ],
 "metadata": {
  "kernelspec": {
   "display_name": "Python 3",
   "language": "python",
   "name": "python3"
  },
  "language_info": {
   "codemirror_mode": {
    "name": "ipython",
    "version": 3
   },
   "file_extension": ".py",
   "mimetype": "text/x-python",
   "name": "python",
   "nbconvert_exporter": "python",
   "pygments_lexer": "ipython3",
   "version": "3.8.3"
  }
 },
 "nbformat": 4,
 "nbformat_minor": 4
}
