{
 "cells": [
  {
   "cell_type": "markdown",
   "id": "a6461658",
   "metadata": {},
   "source": [
    "# PythonProgrammingBasic-17"
   ]
  },
  {
   "cell_type": "markdown",
   "id": "a88a5d05",
   "metadata": {},
   "source": [
    "## Question1. \n",
    "    Create a function that takes three arguments a, b, c and returns the sum of the\n",
    "    numbers that are evenly divided by c from the range a, b inclusive.\n",
    "    Examples\n",
    "    evenly_divisible(1, 10, 20) ➞ 0\n",
    "    # No number between 1 and 10 can be evenly divided by 20.\n",
    "    evenly_divisible(1, 10, 2) ➞ 30\n",
    "    # 2 + 4 + 6 + 8 + 10 = 30\n",
    "    evenly_divisible(1, 10, 3) ➞ 18\n",
    "    # 3 + 6 + 9 = 18"
   ]
  },
  {
   "cell_type": "code",
   "execution_count": 1,
   "id": "8ddccf59",
   "metadata": {},
   "outputs": [],
   "source": [
    "def evenly_divisible(a, b, c):     \n",
    "    sum = 0\n",
    "    for i in range(a, b + 1): \n",
    "        if (i % c == 0):\n",
    "            sum += i \n",
    "    return sum"
   ]
  },
  {
   "cell_type": "code",
   "execution_count": 2,
   "id": "f57b5726",
   "metadata": {},
   "outputs": [
    {
     "data": {
      "text/plain": [
       "0"
      ]
     },
     "execution_count": 2,
     "metadata": {},
     "output_type": "execute_result"
    }
   ],
   "source": [
    "evenly_divisible(1, 10, 20)"
   ]
  },
  {
   "cell_type": "code",
   "execution_count": 3,
   "id": "4a7ae140",
   "metadata": {},
   "outputs": [
    {
     "data": {
      "text/plain": [
       "30"
      ]
     },
     "execution_count": 3,
     "metadata": {},
     "output_type": "execute_result"
    }
   ],
   "source": [
    "evenly_divisible(1, 10, 2) "
   ]
  },
  {
   "cell_type": "code",
   "execution_count": 4,
   "id": "16348020",
   "metadata": {},
   "outputs": [
    {
     "data": {
      "text/plain": [
       "18"
      ]
     },
     "execution_count": 4,
     "metadata": {},
     "output_type": "execute_result"
    }
   ],
   "source": [
    "evenly_divisible(1, 10, 3)"
   ]
  },
  {
   "cell_type": "markdown",
   "id": "6728ff0e",
   "metadata": {},
   "source": [
    "## Question2.\n",
    "    Create a function that returns True if a given inequality expression is correct and\n",
    "    False otherwise.\n",
    "    Examples\n",
    "    correct_signs(\"3 > 7 < 11\") ➞ True\n",
    "    correct_signs(\"13 > 44 > 33 > 1\") ➞ False\n",
    "    correct_signs(\"1 < 2 < 6 < 9 > 3\") ➞ True"
   ]
  },
  {
   "cell_type": "code",
   "execution_count": 5,
   "id": "d1516d78",
   "metadata": {},
   "outputs": [],
   "source": [
    "def correct_signs ( txt ) : \n",
    "    return eval ( txt )"
   ]
  },
  {
   "cell_type": "code",
   "execution_count": 6,
   "id": "b905fd47",
   "metadata": {},
   "outputs": [
    {
     "data": {
      "text/plain": [
       "False"
      ]
     },
     "execution_count": 6,
     "metadata": {},
     "output_type": "execute_result"
    }
   ],
   "source": [
    "correct_signs(\"3 > 7 < 11\")"
   ]
  },
  {
   "cell_type": "code",
   "execution_count": 7,
   "id": "d8eaa0ff",
   "metadata": {},
   "outputs": [
    {
     "data": {
      "text/plain": [
       "False"
      ]
     },
     "execution_count": 7,
     "metadata": {},
     "output_type": "execute_result"
    }
   ],
   "source": [
    "correct_signs(\"13 > 44 > 33 > 1\")"
   ]
  },
  {
   "cell_type": "code",
   "execution_count": 8,
   "id": "83cd89db",
   "metadata": {},
   "outputs": [
    {
     "data": {
      "text/plain": [
       "True"
      ]
     },
     "execution_count": 8,
     "metadata": {},
     "output_type": "execute_result"
    }
   ],
   "source": [
    "correct_signs(\"1 < 2 < 6 < 9 > 3\")"
   ]
  },
  {
   "cell_type": "markdown",
   "id": "8ecfe527",
   "metadata": {},
   "source": [
    "## Question3.\n",
    "    Create a function that replaces all the vowels in a string with a specified character.\n",
    "    Examples\n",
    "    replace_vowels('the aardvark, '#') ➞ 'th# ##rdv#rk'\n",
    "    replace_vowels('minnie mouse', '?') ➞ 'm?nn?? m??s?'\n",
    "    replace_vowels('shakespeare', '*') ➞ 'sh*k*sp**r*'"
   ]
  },
  {
   "cell_type": "code",
   "execution_count": 9,
   "id": "968a2082",
   "metadata": {},
   "outputs": [],
   "source": [
    "def replace_vowels(str, s):\n",
    "    vowels = 'AEIOUaeiou'\n",
    "    for i in vowels:  \n",
    "        str = str.replace(i, s)  \n",
    "    return str\n",
    "  "
   ]
  },
  {
   "cell_type": "code",
   "execution_count": 11,
   "id": "bf59eead",
   "metadata": {},
   "outputs": [
    {
     "data": {
      "text/plain": [
       "'th# ##rdv#rk'"
      ]
     },
     "execution_count": 11,
     "metadata": {},
     "output_type": "execute_result"
    }
   ],
   "source": [
    "replace_vowels('the aardvark', '#')"
   ]
  },
  {
   "cell_type": "code",
   "execution_count": 12,
   "id": "375645bf",
   "metadata": {},
   "outputs": [
    {
     "data": {
      "text/plain": [
       "'m?nn?? m??s?'"
      ]
     },
     "execution_count": 12,
     "metadata": {},
     "output_type": "execute_result"
    }
   ],
   "source": [
    "replace_vowels('minnie mouse', '?')"
   ]
  },
  {
   "cell_type": "code",
   "execution_count": 13,
   "id": "d5bf9c91",
   "metadata": {},
   "outputs": [
    {
     "data": {
      "text/plain": [
       "'sh*k*sp**r*'"
      ]
     },
     "execution_count": 13,
     "metadata": {},
     "output_type": "execute_result"
    }
   ],
   "source": [
    "replace_vowels('shakespeare', '*') "
   ]
  },
  {
   "cell_type": "markdown",
   "id": "8e36300b",
   "metadata": {},
   "source": [
    "## Question4.\n",
    "    Write a function that calculates the factorial of a number recursively.\n",
    "    Examples\n",
    "    factorial(5) ➞ 120\n",
    "    factorial(3) ➞ 6\n",
    "    factorial(1) ➞ 1\n",
    "    factorial(0) ➞ 1"
   ]
  },
  {
   "cell_type": "code",
   "execution_count": 14,
   "id": "18556430",
   "metadata": {},
   "outputs": [],
   "source": [
    "def factorial(n):\n",
    "    if n==0:\n",
    "        return 1\n",
    "    return n*factorial(n-1)"
   ]
  },
  {
   "cell_type": "code",
   "execution_count": 15,
   "id": "85822631",
   "metadata": {},
   "outputs": [
    {
     "data": {
      "text/plain": [
       "120"
      ]
     },
     "execution_count": 15,
     "metadata": {},
     "output_type": "execute_result"
    }
   ],
   "source": [
    "factorial(5)"
   ]
  },
  {
   "cell_type": "code",
   "execution_count": 16,
   "id": "f8dee6fb",
   "metadata": {},
   "outputs": [
    {
     "data": {
      "text/plain": [
       "6"
      ]
     },
     "execution_count": 16,
     "metadata": {},
     "output_type": "execute_result"
    }
   ],
   "source": [
    "factorial(3)"
   ]
  },
  {
   "cell_type": "code",
   "execution_count": 17,
   "id": "3bc6e6cb",
   "metadata": {},
   "outputs": [
    {
     "data": {
      "text/plain": [
       "1"
      ]
     },
     "execution_count": 17,
     "metadata": {},
     "output_type": "execute_result"
    }
   ],
   "source": [
    "factorial(1)"
   ]
  },
  {
   "cell_type": "code",
   "execution_count": 18,
   "id": "ec960b7b",
   "metadata": {},
   "outputs": [
    {
     "data": {
      "text/plain": [
       "1"
      ]
     },
     "execution_count": 18,
     "metadata": {},
     "output_type": "execute_result"
    }
   ],
   "source": [
    "factorial(0)"
   ]
  },
  {
   "cell_type": "markdown",
   "id": "0406f88d",
   "metadata": {},
   "source": [
    "## Question 5\n",
    "    Hamming distance is the number of characters that differ between two strings.\n",
    "    To illustrate:\n",
    "    String1: 'abcbba'\n",
    "    String2: 'abcbda'\n",
    "    Hamming Distance: 1 - 'b' vs. 'd' is the only difference.\n",
    "    Create a function that computes the hamming distance between two strings.\n",
    "    Examples\n",
    "    hamming_distance('abcde', 'bcdef') ➞ 5\n",
    "    hamming_distance('abcde', 'abcde') ➞ 0\n",
    "    hamming_distance('strong', 'strung') ➞ 1"
   ]
  },
  {
   "cell_type": "code",
   "execution_count": 19,
   "id": "2c4e471a",
   "metadata": {},
   "outputs": [],
   "source": [
    "def hamming_distance(str1, str2):\n",
    "    i = 0\n",
    "    count = 0\n",
    " \n",
    "    while(i < len(str1)):\n",
    "        if(str1[i] != str2[i]):\n",
    "            count += 1\n",
    "        i += 1\n",
    "    return count\n"
   ]
  },
  {
   "cell_type": "code",
   "execution_count": 20,
   "id": "655de32c",
   "metadata": {},
   "outputs": [
    {
     "data": {
      "text/plain": [
       "5"
      ]
     },
     "execution_count": 20,
     "metadata": {},
     "output_type": "execute_result"
    }
   ],
   "source": [
    "hamming_distance('abcde', 'bcdef')"
   ]
  },
  {
   "cell_type": "code",
   "execution_count": 21,
   "id": "4068922d",
   "metadata": {},
   "outputs": [
    {
     "data": {
      "text/plain": [
       "0"
      ]
     },
     "execution_count": 21,
     "metadata": {},
     "output_type": "execute_result"
    }
   ],
   "source": [
    "hamming_distance('abcde', 'abcde')"
   ]
  },
  {
   "cell_type": "code",
   "execution_count": 22,
   "id": "6843a362",
   "metadata": {},
   "outputs": [
    {
     "data": {
      "text/plain": [
       "1"
      ]
     },
     "execution_count": 22,
     "metadata": {},
     "output_type": "execute_result"
    }
   ],
   "source": [
    "hamming_distance('strong', 'strung')"
   ]
  },
  {
   "cell_type": "code",
   "execution_count": null,
   "id": "b08c5a02",
   "metadata": {},
   "outputs": [],
   "source": []
  }
 ],
 "metadata": {
  "kernelspec": {
   "display_name": "Python 3",
   "language": "python",
   "name": "python3"
  },
  "language_info": {
   "codemirror_mode": {
    "name": "ipython",
    "version": 3
   },
   "file_extension": ".py",
   "mimetype": "text/x-python",
   "name": "python",
   "nbconvert_exporter": "python",
   "pygments_lexer": "ipython3",
   "version": "3.8.8"
  }
 },
 "nbformat": 4,
 "nbformat_minor": 5
}
