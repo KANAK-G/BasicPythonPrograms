{
 "cells": [
  {
   "cell_type": "markdown",
   "id": "6d9872f5",
   "metadata": {},
   "source": [
    "# Python Basic Programming - 10"
   ]
  },
  {
   "cell_type": "markdown",
   "id": "90c8734b",
   "metadata": {},
   "source": [
    "### 1. Write a Python program to find sum of elements in list?"
   ]
  },
  {
   "cell_type": "code",
   "execution_count": 1,
   "id": "a741db38",
   "metadata": {},
   "outputs": [
    {
     "name": "stdout",
     "output_type": "stream",
     "text": [
      "Enter the lenth of your list : 10\n",
      "5\n",
      "6\n",
      "15\n",
      "18\n",
      "17\n",
      "19\n",
      "15\n",
      "65\n",
      "25\n",
      "16\n",
      "The List is  [5, 6, 15, 18, 17, 19, 15, 65, 25, 16]\n",
      "Sum of elements in List 201\n"
     ]
    }
   ],
   "source": [
    "n = int(input(\"Enter the lenth of your list : \"))\n",
    "lst = []\n",
    "\n",
    "for i in range(n):\n",
    "    lst.append(int(input()))\n",
    "print(\"The List is \",lst)\n",
    "print(\"Sum of elements in List\",sum(lst))"
   ]
  },
  {
   "cell_type": "markdown",
   "id": "0bffc4f9",
   "metadata": {},
   "source": [
    "### 2. Write a Python program to Multiply all numbers in the list?"
   ]
  },
  {
   "cell_type": "code",
   "execution_count": 5,
   "id": "6703e5dd",
   "metadata": {},
   "outputs": [
    {
     "name": "stdout",
     "output_type": "stream",
     "text": [
      "Enter the length of your list : 6\n",
      "12\n",
      "56\n",
      "4\n",
      "45\n",
      "65\n",
      "78\n",
      "The List is  [12, 56, 4, 45, 65, 78]\n",
      "Product of elements in List is : 613267200\n"
     ]
    }
   ],
   "source": [
    "n = int(input(\"Enter the length of your list : \"))\n",
    "lst = []\n",
    "\n",
    "for i in range(n):\n",
    "    lst.append(int(input()))\n",
    "print(\"The List is \",lst)\n",
    "product = 1\n",
    "for item in lst:\n",
    "    product = product*item\n",
    "print(\"Product of elements in List is :\",product)"
   ]
  },
  {
   "cell_type": "markdown",
   "id": "e054b357",
   "metadata": {},
   "source": [
    "### 3. Write a Python program to find smallest number in a list?"
   ]
  },
  {
   "cell_type": "code",
   "execution_count": 6,
   "id": "b8dd953b",
   "metadata": {},
   "outputs": [
    {
     "name": "stdout",
     "output_type": "stream",
     "text": [
      "Enter the length of your list : 5\n",
      "25\n",
      "65\n",
      "78\n",
      "1\n",
      "0\n",
      "The List is  [25, 65, 78, 1, 0]\n",
      "The Smallest element in the list is : 0\n"
     ]
    }
   ],
   "source": [
    "n = int(input(\"Enter the length of your list : \"))\n",
    "lst = []\n",
    "\n",
    "for i in range(n):\n",
    "    lst.append(int(input()))\n",
    "print(\"The List is \",lst)\n",
    "print(\"The Smallest element in the list is :\",min(lst))"
   ]
  },
  {
   "cell_type": "markdown",
   "id": "d77c6e93",
   "metadata": {},
   "source": [
    "### 4. Write a Python program to find largest number in a list?"
   ]
  },
  {
   "cell_type": "code",
   "execution_count": 7,
   "id": "40debdfd",
   "metadata": {},
   "outputs": [
    {
     "name": "stdout",
     "output_type": "stream",
     "text": [
      "Enter the length of your list : 6\n",
      "12\n",
      "56\n",
      "78\n",
      "95\n",
      "154\n",
      "256\n",
      "The List is  [12, 56, 78, 95, 154, 256]\n",
      "The largest element in the list is : 256\n"
     ]
    }
   ],
   "source": [
    "n = int(input(\"Enter the length of your list : \"))\n",
    "lst = []\n",
    "\n",
    "for i in range(n):\n",
    "    lst.append(int(input()))\n",
    "print(\"The List is \",lst)\n",
    "print(\"The largest element in the list is :\",max(lst))"
   ]
  },
  {
   "cell_type": "markdown",
   "id": "7a921070",
   "metadata": {},
   "source": [
    "### 5. Write a Python program to find second largest number in a list?"
   ]
  },
  {
   "cell_type": "code",
   "execution_count": 8,
   "id": "0ae985df",
   "metadata": {},
   "outputs": [
    {
     "name": "stdout",
     "output_type": "stream",
     "text": [
      "Enter the length of your list : 4\n",
      "56\n",
      "2\n",
      "1\n",
      "95\n",
      "The List is  [56, 2, 1, 95]\n",
      "The sorted list is  [1, 2, 56, 95]\n",
      "The second largest element in the list is  56\n"
     ]
    }
   ],
   "source": [
    "n = int(input(\"Enter the length of your list : \"))\n",
    "lst = []\n",
    "\n",
    "for i in range(n):\n",
    "    lst.append(int(input()))\n",
    "print(\"The List is \",lst)\n",
    "lst.sort()\n",
    "print(\"The sorted list is \",lst)\n",
    "print(\"The second largest element in the list is \",lst[-2])"
   ]
  },
  {
   "cell_type": "markdown",
   "id": "f74d3b04",
   "metadata": {},
   "source": [
    "### 6. Write a Python program to find N largest elements from a list?"
   ]
  },
  {
   "cell_type": "code",
   "execution_count": 9,
   "id": "722438d6",
   "metadata": {},
   "outputs": [
    {
     "name": "stdout",
     "output_type": "stream",
     "text": [
      "Enter the length of your list : 7\n",
      "12\n",
      "56\n",
      "74\n",
      "15\n",
      "13\n",
      "65\n",
      "78\n",
      "The List is  [12, 56, 74, 15, 13, 65, 78]\n",
      "The sorted list is  [12, 13, 15, 56, 65, 74, 78]\n",
      "Enter how many largest number u want to see in from the list :5\n",
      "5 largest elements from the list are : [15, 56, 65, 74, 78]\n"
     ]
    }
   ],
   "source": [
    "n = int(input(\"Enter the length of your list : \"))\n",
    "lst = []\n",
    "\n",
    "for i in range(n):\n",
    "    lst.append(int(input()))\n",
    "print(\"The List is \",lst)\n",
    "lst.sort()\n",
    "print(\"The sorted list is \",lst)\n",
    "nlargest = int(input(\"Enter how many largest number u want to see in from the list :\"))\n",
    "\n",
    "if n < nlargest :\n",
    "    print(\"enterted value is larger then that list length\")\n",
    "else:\n",
    "    print(nlargest,\"largest elements from the list are :\",lst[(n-nlargest):])"
   ]
  },
  {
   "cell_type": "markdown",
   "id": "88e4d7f8",
   "metadata": {},
   "source": [
    "### 7. Write a Python program to print even numbers in a list?"
   ]
  },
  {
   "cell_type": "code",
   "execution_count": 10,
   "id": "0d813f4e",
   "metadata": {},
   "outputs": [
    {
     "data": {
      "text/plain": [
       "[22, 32, 64]"
      ]
     },
     "execution_count": 10,
     "metadata": {},
     "output_type": "execute_result"
    }
   ],
   "source": [
    "lst = [15,89,75,65,21,45,22,32,64]\n",
    "[i for i in lst if i%2==0]"
   ]
  },
  {
   "cell_type": "markdown",
   "id": "9ee95127",
   "metadata": {},
   "source": [
    "### 8. Write a Python program to print odd numbers in a List?"
   ]
  },
  {
   "cell_type": "code",
   "execution_count": 11,
   "id": "f9091543",
   "metadata": {},
   "outputs": [
    {
     "data": {
      "text/plain": [
       "[15, 89, 75, 65, 21, 45]"
      ]
     },
     "execution_count": 11,
     "metadata": {},
     "output_type": "execute_result"
    }
   ],
   "source": [
    "lst = [15,89,75,65,21,45,22,32,64]\n",
    "[i for i in lst if i%2 != 0]"
   ]
  },
  {
   "cell_type": "markdown",
   "id": "d4847160",
   "metadata": {},
   "source": [
    "### 9. Write a Python program to Remove empty List from List?"
   ]
  },
  {
   "cell_type": "code",
   "execution_count": 12,
   "id": "32bd2e6d",
   "metadata": {},
   "outputs": [
    {
     "name": "stdout",
     "output_type": "stream",
     "text": [
      "The List : [2, [], 4, 5, [], 6, 8, [], 3]\n",
      "The list after removing empty lists\n",
      "[2, 4, 5, 6, 8, 3]\n"
     ]
    }
   ],
   "source": [
    "lst = [2,[],4,5,[],6,8,[],3]\n",
    "print(\"The List :\",lst)\n",
    "removedlist = [i for i in lst if i != []]\n",
    "print(\"The list after removing empty lists\")\n",
    "print(removedlist)"
   ]
  },
  {
   "cell_type": "markdown",
   "id": "7a2c877c",
   "metadata": {},
   "source": [
    "### 10. Write a Python program to Cloning or Copying a list?"
   ]
  },
  {
   "cell_type": "code",
   "execution_count": 13,
   "id": "7a666058",
   "metadata": {},
   "outputs": [
    {
     "name": "stdout",
     "output_type": "stream",
     "text": [
      "Enter the length of your list : 6\n",
      "12\n",
      "56\n",
      "74\n",
      "14\n",
      "15\n",
      "32\n",
      "The List is  [12, 56, 74, 14, 15, 32]\n",
      "The cloned/copied list :\n",
      "Cloning By list slicing lst[:]  [12, 56, 74, 14, 15, 32]\n",
      "Cloning By list copying lst.copy()  [12, 56, 74, 14, 15, 32]\n",
      "Cloning By list Comprahention  [12, 56, 74, 14, 15, 32]\n",
      "Cloning By list append  [12, 56, 74, 14, 15, 32]\n"
     ]
    }
   ],
   "source": [
    "n = int(input(\"Enter the length of your list : \"))\n",
    "lst = []\n",
    "\n",
    "for i in range(n):\n",
    "    lst.append(int(input()))\n",
    "print(\"The List is \",lst)\n",
    "\n",
    "print(\"The cloned/copied list :\")\n",
    "\n",
    "#Method 1\n",
    "lstcopy = lst[:]\n",
    "print(\"Cloning By list slicing lst[:] \",lstcopy)\n",
    "\n",
    "#method2\n",
    "lst2 = lst.copy()\n",
    "print(\"Cloning By list copying lst.copy() \",lst2)\n",
    "\n",
    "\n",
    "#Method3\n",
    "lstcomprah = [i for i in lst]\n",
    "print(\"Cloning By list Comprahention \",lstcomprah)\n",
    "\n",
    "\n",
    "#method4\n",
    "lstappend=[]\n",
    "for i in lst : lstappend.append(i)\n",
    "print(\"Cloning By list append \",lstappend)"
   ]
  },
  {
   "cell_type": "markdown",
   "id": "5d8f4f20",
   "metadata": {},
   "source": [
    "### 11. Write a Python program to Count occurrences of an element in a list?"
   ]
  },
  {
   "cell_type": "code",
   "execution_count": 14,
   "id": "1137fd60",
   "metadata": {},
   "outputs": [
    {
     "name": "stdout",
     "output_type": "stream",
     "text": [
      "Enter the lenth of your list : 4\n",
      "12\n",
      "45\n",
      "75\n",
      "145\n",
      "The List is  [12, 45, 75, 145]\n",
      "Enter the element to find its occurance : 12\n",
      "12 has occured 1 times in the list \n"
     ]
    }
   ],
   "source": [
    "n = int(input(\"Enter the lenth of your list : \"))\n",
    "lst = []\n",
    "\n",
    "for i in range(n):\n",
    "    lst.append(int(input()))\n",
    "print(\"The List is \",lst)\n",
    "e= int(input(\"Enter the element to find its occurance : \"))\n",
    "print(e,\"has occured {} times in the list \".format(lst.count(e)))"
   ]
  },
  {
   "cell_type": "code",
   "execution_count": null,
   "id": "d516cf9f",
   "metadata": {},
   "outputs": [],
   "source": []
  }
 ],
 "metadata": {
  "kernelspec": {
   "display_name": "Python 3",
   "language": "python",
   "name": "python3"
  },
  "language_info": {
   "codemirror_mode": {
    "name": "ipython",
    "version": 3
   },
   "file_extension": ".py",
   "mimetype": "text/x-python",
   "name": "python",
   "nbconvert_exporter": "python",
   "pygments_lexer": "ipython3",
   "version": "3.8.8"
  }
 },
 "nbformat": 4,
 "nbformat_minor": 5
}
