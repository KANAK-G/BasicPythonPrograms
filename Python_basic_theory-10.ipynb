{
 "cells": [
  {
   "cell_type": "markdown",
   "id": "9117bd6e",
   "metadata": {},
   "source": [
    "## Python Basics - 10\n"
   ]
  },
  {
   "cell_type": "markdown",
   "id": "5d389884",
   "metadata": {},
   "source": [
    "### 1. How do you distinguish between shutil.copy() and shutil.copytree()?\n"
   ]
  },
  {
   "cell_type": "markdown",
   "id": "40de1a9a",
   "metadata": {},
   "source": [
    "**Ans.**While shutil.copy () will copy a single file, \n",
    "\n",
    "shutil.copytree () will copy an entire folder and every folder and file contained in it.\n",
    "\n",
    "Calling shutil.copytree (source, destination) will copy the folder at the path source, along with all of its files and subfolders, to the folder at the path destination."
   ]
  },
  {
   "cell_type": "markdown",
   "id": "fe2bf7fb",
   "metadata": {},
   "source": [
    "### 2. What function is used to rename files??\n",
    "\n",
    "**Ans.**Python rename() file is a method used to rename a file or a directory in Python programming. The Python rename() file method can be declared by passing two arguments named src (Source) and dst (Destination).\n",
    "\n",
    "**Syntax**\n",
    "This is the syntax for os.rename() method **os.rename(src, dst)**"
   ]
  },
  {
   "cell_type": "markdown",
   "id": "9f8d1f2d",
   "metadata": {},
   "source": [
    "### 3. What is the difference between the delete functions in the send2trash and shutil modules?\n",
    "\n",
    "**Ans.**The key difference is :\n",
    "\n",
    "Since Python’s built-in shutil.rmtree() function irreversibly deletes files and folders, it can be dangerous to use. \n",
    "\n",
    "Using send2trash is much safer than Python’s regular delete functions, because it will send folders and files to computer’s trash or recycle bin instead of permanently deleting them. "
   ]
  },
  {
   "cell_type": "markdown",
   "id": "14a68400",
   "metadata": {},
   "source": [
    "### 4.ZipFile objects have a close() method just like File objects’ close() method. What ZipFile method is equivalent to File objects’ open() method?"
   ]
  },
  {
   "cell_type": "code",
   "execution_count": null,
   "id": "997bb198",
   "metadata": {},
   "outputs": [],
   "source": [
    "from zipfile import Zipfile\n",
    "with ZipFile(file_name, 'r') as zip:\n",
    "    '''this code will open specified zipfile for us. we can use zip object to perform other \n",
    "    operation the ziplife. like zip.read()'''"
   ]
  },
  {
   "cell_type": "markdown",
   "id": "6b7862a0",
   "metadata": {},
   "source": [
    "### 5. Create a programme that searches a folder tree for files with a certain file extension (such as .pdf or .jpg). Copy these files from whatever location they are in to a new folder."
   ]
  },
  {
   "cell_type": "code",
   "execution_count": 1,
   "id": "b1c15a8a",
   "metadata": {},
   "outputs": [
    {
     "name": "stdout",
     "output_type": "stream",
     "text": [
      "Looking in C:\\Users\\ssc\\Downloads for files with extensions of .pdf, .jpg\n",
      "Coping C:\\Users\\ssc\\Downloads\\aadhar card.pdf to C:\\Users\\ssc\\Documents\n",
      "Coping C:\\Users\\ssc\\Downloads\\Hidden_brain_infotech_resume.pdf to C:\\Users\\ssc\\Documents\n",
      "Coping C:\\Users\\ssc\\Downloads\\kanak.pdf to C:\\Users\\ssc\\Documents\n",
      "Coping C:\\Users\\ssc\\Downloads\\Mchine Learning Interview Questions.pdf to C:\\Users\\ssc\\Documents\n",
      "Coping C:\\Users\\ssc\\Downloads\\Panwar_Abhash_Anil_Resume.pdf to C:\\Users\\ssc\\Documents\n",
      "Coping C:\\Users\\ssc\\Downloads\\pexels-pixabay-60597.jpg to C:\\Users\\ssc\\Documents\n",
      "Coping C:\\Users\\ssc\\Downloads\\pexels-pixabay-65894.jpg to C:\\Users\\ssc\\Documents\n",
      "Coping C:\\Users\\ssc\\Downloads\\MyFlow\\20211002_135240.jpg to C:\\Users\\ssc\\Documents\n",
      "Coping C:\\Users\\ssc\\Downloads\\MyFlow\\Resume.pdf to C:\\Users\\ssc\\Documents\n",
      "Coping C:\\Users\\ssc\\Downloads\\MyFlow\\thinkstats.pdf to C:\\Users\\ssc\\Documents\n",
      "Coping C:\\Users\\ssc\\Downloads\\Resume\\Board_infinity-Resume.pdf to C:\\Users\\ssc\\Documents\n",
      "Coping C:\\Users\\ssc\\Downloads\\Resume\\Infosys_resume.pdf to C:\\Users\\ssc\\Documents\n",
      "Coping C:\\Users\\ssc\\Downloads\\Resume\\kanak_gupta.pdf to C:\\Users\\ssc\\Documents\n",
      "Coping C:\\Users\\ssc\\Downloads\\Resume\\Resume.pdf to C:\\Users\\ssc\\Documents\n",
      "Coping C:\\Users\\ssc\\Downloads\\Resume\\Turing_resume.pdf to C:\\Users\\ssc\\Documents\n",
      "Coping C:\\Users\\ssc\\Downloads\\Resume\\Vibrantminds_resume.pdf to C:\\Users\\ssc\\Documents\n"
     ]
    }
   ],
   "source": [
    "import os, shutil\n",
    "\n",
    "def selectiveCopy(source, extensions, destFolder):\n",
    "    folder = os.path.abspath(source)\n",
    "    destFolder = os.path.abspath(destFolder)\n",
    "    print('Looking in', source, 'for files with extensions of', ', '.join(extensions))\n",
    "    for foldername, subfolders, filenames in os.walk(source):\n",
    "        for filename in filenames:\n",
    "            name, extension = os.path.splitext(filename)\n",
    "            if extension in extensions:\n",
    "                fileAbsPath = foldername + os.path.sep + filename\n",
    "                print('Coping', fileAbsPath, 'to', destFolder)\n",
    "                shutil.copy(fileAbsPath, destFolder)\n",
    "\n",
    "extensions = ['.pdf','.jpg']\n",
    "source = \"C:\\\\Users\\\\ssc\\\\Downloads\"\n",
    "destFolder = \"C:\\\\Users\\\\ssc\\\\Documents\"\n",
    "selectiveCopy(source, extensions, destFolder)"
   ]
  },
  {
   "cell_type": "code",
   "execution_count": null,
   "id": "db8968b2",
   "metadata": {},
   "outputs": [],
   "source": []
  }
 ],
 "metadata": {
  "kernelspec": {
   "display_name": "Python 3",
   "language": "python",
   "name": "python3"
  },
  "language_info": {
   "codemirror_mode": {
    "name": "ipython",
    "version": 3
   },
   "file_extension": ".py",
   "mimetype": "text/x-python",
   "name": "python",
   "nbconvert_exporter": "python",
   "pygments_lexer": "ipython3",
   "version": "3.8.8"
  }
 },
 "nbformat": 4,
 "nbformat_minor": 5
}
