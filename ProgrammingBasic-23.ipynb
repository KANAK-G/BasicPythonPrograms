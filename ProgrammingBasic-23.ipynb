{
 "cells": [
  {
   "cell_type": "markdown",
   "id": "50b6a4f3",
   "metadata": {},
   "source": [
    "# PythonProgrammingBasic-23"
   ]
  },
  {
   "cell_type": "markdown",
   "id": "9768b507",
   "metadata": {},
   "source": [
    "## Question 1\n",
    "\n",
    "    Create a function that takes a number as an argument and returns True or False depending\n",
    "    on whether the number is symmetrical or not. A number is symmetrical when it is the same as\n",
    "    its reverse.\n",
    "    Examples\n",
    "    is_symmetrical(7227) ➞ True\n",
    "    is_symmetrical(12567) ➞ False\n",
    "    is_symmetrical(44444444) ➞ True\n",
    "    is_symmetrical(9939) ➞ False\n",
    "    is_symmetrical(1112111) ➞ True"
   ]
  },
  {
   "cell_type": "code",
   "execution_count": 4,
   "id": "c944f10e",
   "metadata": {},
   "outputs": [],
   "source": [
    "def is_symmetrical(num):\n",
    "    currentDigit = reversedDigit = 0\n",
    "    remainingNum = num\n",
    "    while(remainingNum != 0):\n",
    "\n",
    "        currentDigit = remainingNum % 10\n",
    "\n",
    "        reversedDigit = reversedDigit * 10 + currentDigit\n",
    "    \n",
    "        remainingNum = remainingNum // 10\n",
    "\n",
    "    if reversedDigit == num:\n",
    "        print(f'{num} is symmetrical')\n",
    "    else:\n",
    "        print(f'{num} is not symmetrical')"
   ]
  },
  {
   "cell_type": "code",
   "execution_count": 5,
   "id": "c724baaa",
   "metadata": {},
   "outputs": [
    {
     "name": "stdout",
     "output_type": "stream",
     "text": [
      "7227 is symmetrical\n"
     ]
    }
   ],
   "source": [
    "is_symmetrical(7227)"
   ]
  },
  {
   "cell_type": "code",
   "execution_count": 6,
   "id": "5043499d",
   "metadata": {},
   "outputs": [
    {
     "name": "stdout",
     "output_type": "stream",
     "text": [
      "12567 is not symmetrical\n"
     ]
    }
   ],
   "source": [
    "is_symmetrical(12567)"
   ]
  },
  {
   "cell_type": "code",
   "execution_count": 7,
   "id": "ac06981c",
   "metadata": {},
   "outputs": [
    {
     "name": "stdout",
     "output_type": "stream",
     "text": [
      "44444444 is symmetrical\n"
     ]
    }
   ],
   "source": [
    "is_symmetrical(44444444)"
   ]
  },
  {
   "cell_type": "code",
   "execution_count": 8,
   "id": "4b4b6c76",
   "metadata": {},
   "outputs": [
    {
     "name": "stdout",
     "output_type": "stream",
     "text": [
      "9939 is not symmetrical\n"
     ]
    }
   ],
   "source": [
    "is_symmetrical(9939) "
   ]
  },
  {
   "cell_type": "code",
   "execution_count": 9,
   "id": "f884fff8",
   "metadata": {},
   "outputs": [
    {
     "name": "stdout",
     "output_type": "stream",
     "text": [
      "1112111 is symmetrical\n"
     ]
    }
   ],
   "source": [
    "is_symmetrical(1112111)"
   ]
  },
  {
   "cell_type": "markdown",
   "id": "ade3da8a",
   "metadata": {},
   "source": [
    "## Question 2\n",
    "\n",
    "    Given a string of numbers separated by a comma and space, return the product of the\n",
    "    numbers.\n",
    "    Examples\n",
    "    multiply_nums('2, 3') ➞ 6\n",
    "    multiply_nums('1, 2, 3, 4') ➞ 24\n",
    "    multiply_nums('54, 75, 453, 0') ➞ 0\n",
    "    multiply_nums('10, -2') ➞ -20"
   ]
  },
  {
   "cell_type": "code",
   "execution_count": 12,
   "id": "eb5d4469",
   "metadata": {},
   "outputs": [],
   "source": [
    "def multiply_nums(s):\n",
    "    s = s.replace(' ', \"\")\n",
    "    s = s.split(',')\n",
    "    sum = 1\n",
    "    for i in s:\n",
    "        sum = sum * int(i)\n",
    "    return sum"
   ]
  },
  {
   "cell_type": "code",
   "execution_count": 13,
   "id": "79909db5",
   "metadata": {},
   "outputs": [
    {
     "data": {
      "text/plain": [
       "6"
      ]
     },
     "execution_count": 13,
     "metadata": {},
     "output_type": "execute_result"
    }
   ],
   "source": [
    "multiply_nums('2, 3')"
   ]
  },
  {
   "cell_type": "code",
   "execution_count": 14,
   "id": "66f35e98",
   "metadata": {},
   "outputs": [
    {
     "data": {
      "text/plain": [
       "24"
      ]
     },
     "execution_count": 14,
     "metadata": {},
     "output_type": "execute_result"
    }
   ],
   "source": [
    "multiply_nums('1, 2, 3, 4')"
   ]
  },
  {
   "cell_type": "code",
   "execution_count": 15,
   "id": "f8f41330",
   "metadata": {},
   "outputs": [
    {
     "data": {
      "text/plain": [
       "0"
      ]
     },
     "execution_count": 15,
     "metadata": {},
     "output_type": "execute_result"
    }
   ],
   "source": [
    "multiply_nums('54, 75, 453, 0')"
   ]
  },
  {
   "cell_type": "code",
   "execution_count": 16,
   "id": "24ff7ff4",
   "metadata": {},
   "outputs": [
    {
     "data": {
      "text/plain": [
       "-20"
      ]
     },
     "execution_count": 16,
     "metadata": {},
     "output_type": "execute_result"
    }
   ],
   "source": [
    "multiply_nums('10, -2') "
   ]
  },
  {
   "cell_type": "markdown",
   "id": "b61e4cd1",
   "metadata": {},
   "source": [
    "## Question 3\n",
    "\n",
    "    Create a function that squares every digit of a number.\n",
    "    Examples\n",
    "    square_digits(9119) ➞ 811181\n",
    "    square_digits(2483) ➞ 416649\n",
    "    square_digits(3212) ➞ 9414\n",
    "    Notes\n",
    "    The function receives an integer and must return an integer."
   ]
  },
  {
   "cell_type": "code",
   "execution_count": 24,
   "id": "4dc75577",
   "metadata": {},
   "outputs": [],
   "source": [
    "def square_digits(num):\n",
    "    z = ''.join(str(int(i)**2) for i in str(num))\n",
    "    return int(z)"
   ]
  },
  {
   "cell_type": "code",
   "execution_count": 25,
   "id": "434b0bd1",
   "metadata": {},
   "outputs": [
    {
     "data": {
      "text/plain": [
       "811181"
      ]
     },
     "execution_count": 25,
     "metadata": {},
     "output_type": "execute_result"
    }
   ],
   "source": [
    "square_digits(9119)"
   ]
  },
  {
   "cell_type": "code",
   "execution_count": 26,
   "id": "d22abc61",
   "metadata": {},
   "outputs": [
    {
     "data": {
      "text/plain": [
       "416649"
      ]
     },
     "execution_count": 26,
     "metadata": {},
     "output_type": "execute_result"
    }
   ],
   "source": [
    "square_digits(2483)"
   ]
  },
  {
   "cell_type": "code",
   "execution_count": 27,
   "id": "287dcfdd",
   "metadata": {},
   "outputs": [
    {
     "data": {
      "text/plain": [
       "9414"
      ]
     },
     "execution_count": 27,
     "metadata": {},
     "output_type": "execute_result"
    }
   ],
   "source": [
    "square_digits(3212)"
   ]
  },
  {
   "cell_type": "markdown",
   "id": "3ad9899d",
   "metadata": {},
   "source": [
    "## Question 4\n",
    "    Create a function that sorts a list and removes all duplicate items from it.\n",
    "    Examples\n",
    "    setify([1, 3, 3, 5, 5]) ➞ [1, 3, 5]\n",
    "    setify([4, 4, 4, 4]) ➞ [4]\n",
    "    setify([5, 7, 8, 9, 10, 15]) ➞ [5, 7, 8, 9, 10, 15]\n",
    "    setify([3, 3, 3, 2, 1]) ➞ [1, 2, 3]"
   ]
  },
  {
   "cell_type": "code",
   "execution_count": 28,
   "id": "9b050d35",
   "metadata": {},
   "outputs": [],
   "source": [
    "def setify(lst):\n",
    "     return list(set(lst))"
   ]
  },
  {
   "cell_type": "code",
   "execution_count": 29,
   "id": "62ae7e3f",
   "metadata": {},
   "outputs": [
    {
     "data": {
      "text/plain": [
       "[1, 3, 5]"
      ]
     },
     "execution_count": 29,
     "metadata": {},
     "output_type": "execute_result"
    }
   ],
   "source": [
    "setify([1, 3, 3, 5, 5])"
   ]
  },
  {
   "cell_type": "code",
   "execution_count": 30,
   "id": "36d8eea1",
   "metadata": {},
   "outputs": [
    {
     "data": {
      "text/plain": [
       "[4]"
      ]
     },
     "execution_count": 30,
     "metadata": {},
     "output_type": "execute_result"
    }
   ],
   "source": [
    "setify([4, 4, 4, 4])"
   ]
  },
  {
   "cell_type": "code",
   "execution_count": 31,
   "id": "d2c2bd52",
   "metadata": {},
   "outputs": [
    {
     "data": {
      "text/plain": [
       "[5, 7, 8, 9, 10, 15]"
      ]
     },
     "execution_count": 31,
     "metadata": {},
     "output_type": "execute_result"
    }
   ],
   "source": [
    "setify([5, 7, 8, 9, 10, 15])"
   ]
  },
  {
   "cell_type": "code",
   "execution_count": 32,
   "id": "d24bceae",
   "metadata": {},
   "outputs": [
    {
     "data": {
      "text/plain": [
       "[1, 2, 3]"
      ]
     },
     "execution_count": 32,
     "metadata": {},
     "output_type": "execute_result"
    }
   ],
   "source": [
    "setify([3, 3, 3, 2, 1])"
   ]
  },
  {
   "cell_type": "markdown",
   "id": "46bc7940",
   "metadata": {},
   "source": [
    "## Question 5\n",
    "    Create a function that returns the mean of all digits.\n",
    "    Examples\n",
    "    mean(42) ➞ 3\n",
    "    mean(12345) ➞ 3\n",
    "    mean(666) ➞ 6\n",
    "    Notes\n",
    "     The mean of all digits is the sum of digits / how many digits there are (e.g. mean of digits in\n",
    "    512 is (5+1+2)/3(number of digits) = 8/3=2).\n",
    "     The mean will always be an integer."
   ]
  },
  {
   "cell_type": "code",
   "execution_count": 34,
   "id": "7fa53bdf",
   "metadata": {},
   "outputs": [],
   "source": [
    "def mean(n): \n",
    "    N = len(str(n)) \n",
    "    sum = mean = 0\n",
    "    \n",
    "    for digit in str(n):\n",
    "        sum += int(digit)       \n",
    "    return int(sum/N)"
   ]
  },
  {
   "cell_type": "code",
   "execution_count": 35,
   "id": "c8f47a00",
   "metadata": {},
   "outputs": [
    {
     "data": {
      "text/plain": [
       "3"
      ]
     },
     "execution_count": 35,
     "metadata": {},
     "output_type": "execute_result"
    }
   ],
   "source": [
    "mean(42)"
   ]
  },
  {
   "cell_type": "code",
   "execution_count": 36,
   "id": "c46a60b2",
   "metadata": {},
   "outputs": [
    {
     "data": {
      "text/plain": [
       "3"
      ]
     },
     "execution_count": 36,
     "metadata": {},
     "output_type": "execute_result"
    }
   ],
   "source": [
    "mean(12345)"
   ]
  },
  {
   "cell_type": "code",
   "execution_count": 37,
   "id": "9a099ef5",
   "metadata": {},
   "outputs": [
    {
     "data": {
      "text/plain": [
       "6"
      ]
     },
     "execution_count": 37,
     "metadata": {},
     "output_type": "execute_result"
    }
   ],
   "source": [
    "mean(666)"
   ]
  },
  {
   "cell_type": "code",
   "execution_count": null,
   "id": "c291c0b3",
   "metadata": {},
   "outputs": [],
   "source": []
  }
 ],
 "metadata": {
  "kernelspec": {
   "display_name": "Python 3",
   "language": "python",
   "name": "python3"
  },
  "language_info": {
   "codemirror_mode": {
    "name": "ipython",
    "version": 3
   },
   "file_extension": ".py",
   "mimetype": "text/x-python",
   "name": "python",
   "nbconvert_exporter": "python",
   "pygments_lexer": "ipython3",
   "version": "3.8.8"
  }
 },
 "nbformat": 4,
 "nbformat_minor": 5
}
